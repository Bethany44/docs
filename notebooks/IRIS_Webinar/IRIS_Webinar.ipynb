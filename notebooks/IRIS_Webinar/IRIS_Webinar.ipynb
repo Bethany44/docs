{
 "cells": [
  {
   "cell_type": "markdown",
   "metadata": {},
   "source": [
    "<div style=\"background-image:url(images/meschede-seismic-waves.png); padding: 10px 30px 20px 30px; background-size:cover; background-opacity:50%; border-radius:5px; background-position:0px -250px\">\n",
    "<p style=\"float:right; margin-top:20px; padding: 10px 20px 0px 20px; background:rgba(255,255,255,0.75); border-radius:10px;\">\n",
    "<img width=\"400px\" src=images/obspy_logo.png>\n",
    "</p>\n",
    "\n",
    "<h2 style=\"color:#bbb\">IRIS WEBINAR</h2>\n",
    "\n",
    "<h1 style=\"color:#EEE\">ObsPy: A Python Toolbox for Seismology</h1>\n",
    "\n",
    "<h4 style=\"color:#FFF\">May 26th, 2015</h4>\n",
    "\n",
    "http://www.obspy.org\n",
    "</div>"
   ]
  },
  {
   "cell_type": "markdown",
   "metadata": {},
   "source": [
    "If you want to follow along, download and unpack\n",
    "\n",
    "https://raw.githubusercontent.com/obspy/docs/master/notebooks/IRIS_Webinar/webinar.tar.gz\n",
    "\n",
    "or execute the following lines:\n",
    "\n",
    "\n",
    "```bash\n",
    "$ mkdir iris_webinar\n",
    "$ cd iris_webinar\n",
    "$ curl -k https://raw.githubusercontent.com/obspy/docs/master/notebooks/IRIS_Webinar/webinar.tar.gz | \\\n",
    "  tar xzvf -\n",
    "$ ipython notebook IRIS_Webinar.ipynb\n",
    "```\n",
    "\n",
    "If you don't yet have ObsPy and the IPython notebook installed, please do it by following the instructions on our website (http://www.obspy.org). For a quick installation, download Anaconda (http://continuum.io/downloads), and execute\n",
    "\n",
    "```bash\n",
    "$ conda install -c obspy obspy ipython-notebook\n",
    "```"
   ]
  },
  {
   "cell_type": "markdown",
   "metadata": {},
   "source": [
    "---\n",
    "\n",
    "The next couple of lines do three things:\n",
    "* Make plots appear in the browser (otherwise a window pops up)\n",
    "* Printing things works like this: \n",
    "\n",
    "```python\n",
    "print(\"Hello\")\n",
    "```\n",
    "\n",
    "* Plots look a bit nicer and bigger by default.\n",
    "\n",
    "This essentially makes this notebook work under Python 2 and Python 3."
   ]
  },
  {
   "cell_type": "code",
   "execution_count": null,
   "metadata": {
    "collapsed": false
   },
   "outputs": [],
   "source": [
    "from __future__ import print_function\n",
    "import matplotlib.pylab as plt\n",
    "plt.switch_backend(\"nbagg\")\n",
    "plt.style.use('ggplot')\n",
    "plt.rcParams['figure.figsize'] = 12, 8"
   ]
  },
  {
   "cell_type": "markdown",
   "metadata": {},
   "source": [
    "---"
   ]
  },
  {
   "cell_type": "markdown",
   "metadata": {},
   "source": [
    "## Waveform Data\n",
    "\n",
    "![stream](images/Stream_Trace.svg)"
   ]
  },
  {
   "cell_type": "code",
   "execution_count": null,
   "metadata": {
    "collapsed": false
   },
   "outputs": [],
   "source": [
    "ls -l waveforms"
   ]
  },
  {
   "cell_type": "code",
   "execution_count": null,
   "metadata": {
    "collapsed": false,
    "scrolled": true
   },
   "outputs": [],
   "source": [
    "import obspy\n",
    "\n",
    "st = obspy.read(\"waveforms/data.mseed\")\n",
    "\n",
    "print(st)"
   ]
  },
  {
   "cell_type": "code",
   "execution_count": null,
   "metadata": {
    "collapsed": false
   },
   "outputs": [],
   "source": [
    "st2 = obspy.read(\"./waveforms/data_*.sac\")\n",
    "\n",
    "print(st2)"
   ]
  },
  {
   "cell_type": "code",
   "execution_count": null,
   "metadata": {
    "collapsed": false
   },
   "outputs": [],
   "source": [
    "tr = st[0]\n",
    "\n",
    "print(tr.stats)\n",
    "\n",
    "tr.plot();"
   ]
  },
  {
   "cell_type": "code",
   "execution_count": null,
   "metadata": {
    "collapsed": false
   },
   "outputs": [],
   "source": [
    "tr.detrend(\"linear\")\n",
    "tr.write(\"test.sac\", format=\"sac\")"
   ]
  },
  {
   "cell_type": "markdown",
   "metadata": {},
   "source": [
    "## Station Data\n",
    "\n",
    "Station information used to (and still is) served as SEED or RESP files; ObsPy can deal with both. The modern format is StationXML."
   ]
  },
  {
   "cell_type": "code",
   "execution_count": null,
   "metadata": {
    "collapsed": false
   },
   "outputs": [],
   "source": [
    "import obspy\n",
    "\n",
    "inv = obspy.read_inventory(\"./stations/TA_527A.xml\")\n",
    "print(inv)"
   ]
  },
  {
   "cell_type": "markdown",
   "metadata": {},
   "source": [
    "### Structure\n",
    "\n",
    "![inv](images/Inventory.svg)"
   ]
  },
  {
   "cell_type": "code",
   "execution_count": null,
   "metadata": {
    "collapsed": false
   },
   "outputs": [],
   "source": [
    "print(inv.select(channel=\"*Z\"))"
   ]
  },
  {
   "cell_type": "code",
   "execution_count": null,
   "metadata": {
    "collapsed": true
   },
   "outputs": [],
   "source": [
    "inv.select(channel=\"*Z\").write(\"z_component.xml\", format=\"stationxml\")"
   ]
  },
  {
   "cell_type": "code",
   "execution_count": null,
   "metadata": {
    "collapsed": false
   },
   "outputs": [],
   "source": [
    "!head -n 10 z_component.xml"
   ]
  },
  {
   "cell_type": "code",
   "execution_count": null,
   "metadata": {
    "collapsed": false
   },
   "outputs": [],
   "source": [
    "inv.plot_response(min_freq=0.001);"
   ]
  },
  {
   "cell_type": "markdown",
   "metadata": {
    "collapsed": true
   },
   "source": [
    "## Event Data\n",
    "\n",
    "ObsPy can read all kinds of event data formats, like QuakeML (which is shown later down this notebook) and the NDK format of the GCMT Catalog: http://www.globalcmt.org/CMTfiles.html"
   ]
  },
  {
   "cell_type": "code",
   "execution_count": null,
   "metadata": {
    "collapsed": false
   },
   "outputs": [],
   "source": [
    "import obspy\n",
    "\n",
    "cat = obspy.readEvents(\"./events/2014.ndk\")\n",
    "\n",
    "print(cat)"
   ]
  },
  {
   "cell_type": "code",
   "execution_count": null,
   "metadata": {
    "collapsed": false
   },
   "outputs": [],
   "source": [
    "cat.plot();"
   ]
  },
  {
   "cell_type": "code",
   "execution_count": null,
   "metadata": {
    "collapsed": false
   },
   "outputs": [],
   "source": [
    "cat.filter(\"depth > 100000\", \"magnitude > 7\")"
   ]
  },
  {
   "cell_type": "code",
   "execution_count": null,
   "metadata": {
    "collapsed": false
   },
   "outputs": [],
   "source": [
    "cat.filter(\"magnitude > 7.5\")"
   ]
  },
  {
   "cell_type": "code",
   "execution_count": null,
   "metadata": {
    "collapsed": false
   },
   "outputs": [],
   "source": [
    "cat.filter(\"magnitude > 7.5\").write(\"test.xml\", format=\"quakeml\")"
   ]
  },
  {
   "cell_type": "code",
   "execution_count": null,
   "metadata": {
    "collapsed": false
   },
   "outputs": [],
   "source": [
    "!head -n 10 test.xml"
   ]
  },
  {
   "cell_type": "markdown",
   "metadata": {},
   "source": [
    "### Structure\n",
    "\n",
    "Base on QuakeML."
   ]
  },
  {
   "cell_type": "markdown",
   "metadata": {},
   "source": [
    "![events](./images/Event.svg)"
   ]
  },
  {
   "cell_type": "code",
   "execution_count": null,
   "metadata": {
    "collapsed": false
   },
   "outputs": [],
   "source": [
    "event = cat[0]\n",
    "print(event)"
   ]
  },
  {
   "cell_type": "code",
   "execution_count": null,
   "metadata": {
    "collapsed": false
   },
   "outputs": [],
   "source": [
    "print(event.preferred_origin() or event.origins[0])"
   ]
  },
  {
   "cell_type": "code",
   "execution_count": null,
   "metadata": {
    "collapsed": false
   },
   "outputs": [],
   "source": [
    "magnitude = event.preferred_magnitude() or event.magnitude[0]\n",
    "print(magnitude.mag)"
   ]
  },
  {
   "cell_type": "markdown",
   "metadata": {},
   "source": [
    "## Webservices"
   ]
  },
  {
   "cell_type": "code",
   "execution_count": null,
   "metadata": {
    "collapsed": false
   },
   "outputs": [],
   "source": [
    "import obspy\n",
    "from obspy.fdsn import Client\n",
    "\n",
    "c = Client(\"IRIS\")\n",
    "print(c)"
   ]
  },
  {
   "cell_type": "code",
   "execution_count": null,
   "metadata": {
    "collapsed": false
   },
   "outputs": [],
   "source": [
    "c.get_stations(network=\"TA\", level=\"station\").plot(projection=\"local\");"
   ]
  },
  {
   "cell_type": "markdown",
   "metadata": {},
   "source": [
    "## Exercise"
   ]
  },
  {
   "cell_type": "markdown",
   "metadata": {},
   "source": [
    "For the next exercise we will download some data from the Tohoku-Oki earthquake, cut out a certain time window around the first arrival and remove the instrument response from the data."
   ]
  },
  {
   "cell_type": "code",
   "execution_count": null,
   "metadata": {
    "collapsed": false
   },
   "outputs": [],
   "source": [
    "import obspy\n",
    "from obspy.fdsn import Client\n",
    "\n",
    "c = Client(\"IRIS\")\n",
    "\n",
    "# Event time.\n",
    "event_time = obspy.UTCDateTime(\"2011-03-11T05:46:23.2\")\n",
    "\n",
    "\n",
    "cat = c.get_events(starttime=event_time - 10, endtime=event_time + 10,\n",
    "                   minmagnitude=9)\n",
    "\n",
    "inv = c.get_stations(network=\"TA\", station=\"637A\", level=\"response\")\n",
    "\n",
    "st = c.get_waveforms(network=\"TA\", station=\"637A\", location=\"\",\n",
    "                     channel=\"BH?\", starttime=event_time - 60,\n",
    "                     endtime=event_time + 3600)"
   ]
  },
  {
   "cell_type": "code",
   "execution_count": null,
   "metadata": {
    "collapsed": false
   },
   "outputs": [],
   "source": [
    "st.plot();"
   ]
  },
  {
   "cell_type": "code",
   "execution_count": null,
   "metadata": {
    "collapsed": false
   },
   "outputs": [],
   "source": [
    "coords = inv.get_coordinates(\"TA.637A..BHE\")\n",
    "coords"
   ]
  },
  {
   "cell_type": "code",
   "execution_count": null,
   "metadata": {
    "collapsed": false
   },
   "outputs": [],
   "source": [
    "from obspy.core.util.geodetics import locations2degrees\n",
    "\n",
    "origin = cat[0].preferred_origin()\n",
    "distance = locations2degrees(origin.latitude, origin.longitude,\n",
    "                             coords[\"latitude\"], coords[\"longitude\"])"
   ]
  },
  {
   "cell_type": "code",
   "execution_count": null,
   "metadata": {
    "collapsed": false
   },
   "outputs": [],
   "source": [
    "from obspy.taup import TauPyModel\n",
    "\n",
    "m = TauPyModel(model=\"ak135\")\n",
    "\n",
    "arrivals = m.get_ray_paths(\n",
    "    distance_in_degree=distance,\n",
    "    source_depth_in_km=origin.depth / 1000.0)\n",
    "\n",
    "arrivals.plot();"
   ]
  },
  {
   "cell_type": "code",
   "execution_count": null,
   "metadata": {
    "collapsed": false
   },
   "outputs": [],
   "source": [
    "# Cut 1 minute before and 5 minute after first arrivals.\n",
    "first_arrival = origin.time + arrivals[0].time\n",
    "st2 = st.slice(first_arrival - 60, first_arrival + 300)\n",
    "st2.plot();"
   ]
  },
  {
   "cell_type": "markdown",
   "metadata": {},
   "source": [
    "<img width=75% src=images/taper.png></img>"
   ]
  },
  {
   "cell_type": "code",
   "execution_count": null,
   "metadata": {
    "collapsed": false
   },
   "outputs": [],
   "source": [
    "st3 = st2.copy()\n",
    "st3.attach_response(inv)\n",
    "st3.remove_response(pre_filt=(1.0 / 10.0, 1.0 / 5.0, 1.0, 2.0),\n",
    "                    output=\"VEL\")\n",
    "st3.plot()"
   ]
  },
  {
   "cell_type": "markdown",
   "metadata": {},
   "source": [
    "## Bonus: Interactive IPython widgets"
   ]
  },
  {
   "cell_type": "code",
   "execution_count": null,
   "metadata": {
    "collapsed": false
   },
   "outputs": [],
   "source": [
    "from IPython.html.widgets import interact\n",
    "from obspy.taup import TauPyModel\n",
    "\n",
    "m = TauPyModel(\"ak135\")\n",
    "\n",
    "def plot_raypaths(distance, depth, wavetype):\n",
    "    try:\n",
    "        plt.close()\n",
    "    except:\n",
    "        pass\n",
    "    if wavetype == \"all\":\n",
    "        phases = [\"ttall\"]\n",
    "    elif wavetype == \"diff\":\n",
    "        phases = [\"Pdiff\", \"pPdiff\"]\n",
    "    m.get_ray_paths(distance_in_degree=distance,\n",
    "                    source_depth_in_km=depth,\n",
    "                    phase_list=phases).plot();\n",
    "    \n",
    "interact(plot_raypaths, distance=[0, 180],\n",
    "         depth=[0, 700], wavetype=[\"all\", \"diff\"])"
   ]
  },
  {
   "cell_type": "markdown",
   "metadata": {},
   "source": [
    "## Acknowledgements\n",
    "\n",
    "Background picture at the very top is from Matthias Meschede."
   ]
  }
 ],
 "metadata": {
  "kernelspec": {
   "display_name": "Python 3",
   "language": "python",
   "name": "python3"
  },
  "language_info": {
   "codemirror_mode": {
    "name": "ipython",
    "version": 3
   },
   "file_extension": ".py",
   "mimetype": "text/x-python",
   "name": "python",
   "nbconvert_exporter": "python",
   "pygments_lexer": "ipython3",
   "version": "3.4.3"
  }
 },
 "nbformat": 4,
 "nbformat_minor": 0
}
