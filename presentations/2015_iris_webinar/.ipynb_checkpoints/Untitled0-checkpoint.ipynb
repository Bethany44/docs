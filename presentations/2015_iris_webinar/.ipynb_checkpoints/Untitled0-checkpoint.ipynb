{
 "metadata": {
  "name": ""
 },
 "nbformat": 3,
 "nbformat_minor": 0,
 "worksheets": [
  {
   "cells": [
    {
     "cell_type": "code",
     "collapsed": false,
     "input": [
      "from obspy.core import UTCDateTime, Stream\n",
      "import obspy.arclink\n",
      "\n",
      "#clientarclink = obspy.arclink.Client(host=\"eida.ethz.ch\", port=18001)\n",
      "#clientarclink = obspy.arclink.Client(\"eida.resif.fr\", 18001)\n",
      "#clientarclink = obspy.arclink.Client(\"eida.gfz-potsdam.de\", 18001)\n",
      "\n",
      "clientarclink = obspy.arclink.Client(host=\"geosrt2.ipgp.fr\", port=18001)\n",
      "#clientarclink = obspy.arclink.Client(host=\"eida.bgr.de\", port=18001)\n",
      "#clientarclink = obspy.arclink.Client(host=\"eida.ipgp.de\", port=18001)\n",
      "#clientarclink = obspy.arclink.Client(host=\"eida.ingv.it\", port=18001)\n",
      "#clientarclink = obspy.arclink.Client(host=\"bhlsa03.knmi.nl\", port=18001)\n",
      "#clientarclink = obspy.arclink.Client(host=\"bhlsa04.knmi.nl\", port=18002)\n",
      "#clientarclink = obspy.arclink.Client(host=\"erde.geophysik.uni-muenchen.de\", port=18001)\n",
      "#clientarclink = obspy.arclink.Client(host=\"eida.knmi.nl\", port=18002)\n",
      "    \n",
      "#stT1 = str(2012) + 200 + \"T000000.0\"\n",
      "#t1 = UTCDateTime(stT1)\n",
      "#stT2 = str(2012) + 200 + \"T235959.999999\"\n",
      "#t2 = UTCDateTime(stT2)\n",
      "\n",
      "#print stT1\n",
      "#print t1\n",
      "#print stT2\n",
      "#print t2"
     ],
     "language": "python",
     "metadata": {},
     "outputs": [],
     "prompt_number": 30
    },
    {
     "cell_type": "code",
     "collapsed": false,
     "input": [
      "t1 = UTCDateTime(\"2012-200T000000\")\n",
      "print t1\n",
      "t2 = UTCDateTime(\"2012-200T000100\")"
     ],
     "language": "python",
     "metadata": {},
     "outputs": [
      {
       "output_type": "stream",
       "stream": "stdout",
       "text": [
        "2012-07-18T00:00:00"
       ]
      }
     ],
     "prompt_number": 2
    },
    {
     "cell_type": "code",
     "collapsed": false,
     "input": [
      "#av = clientarclink.getInventory(\"CH\", \"SIMPL\", '*', \"HHZ\",  t1, t2)\n",
      "st = clientarclink.getWaveform(\"CH\", \"AIGLE\", \"*\", \"HHZ\", t1, t2)\n",
      "#st = clientarclink.getWaveform(\"BW\", \"FURT\", \"*\", \"EHZ\", t1, t2)\n",
      "print st"
     ],
     "language": "python",
     "metadata": {},
     "outputs": [
      {
       "ename": "ArcLinkException",
       "evalue": "Uncovered status message - contact a developer to fix this",
       "output_type": "pyerr",
       "traceback": [
        "\u001b[1;31m---------------------------------------------------------------------------\u001b[0m\n\u001b[1;31mArcLinkException\u001b[0m                          Traceback (most recent call last)",
        "\u001b[1;32m<ipython-input-31-a18a3c5e8d9f>\u001b[0m in \u001b[0;36m<module>\u001b[1;34m()\u001b[0m\n\u001b[0;32m      1\u001b[0m \u001b[1;31m#av = clientarclink.getInventory(\"CH\", \"SIMPL\", '*', \"HHZ\",  t1, t2)\u001b[0m\u001b[1;33m\u001b[0m\u001b[1;33m\u001b[0m\u001b[0m\n\u001b[1;32m----> 2\u001b[1;33m \u001b[0mst\u001b[0m \u001b[1;33m=\u001b[0m \u001b[0mclientarclink\u001b[0m\u001b[1;33m.\u001b[0m\u001b[0mgetWaveform\u001b[0m\u001b[1;33m(\u001b[0m\u001b[1;34m\"CH\"\u001b[0m\u001b[1;33m,\u001b[0m \u001b[1;34m\"AIGLE\"\u001b[0m\u001b[1;33m,\u001b[0m \u001b[1;34m\"*\"\u001b[0m\u001b[1;33m,\u001b[0m \u001b[1;34m\"HHZ\"\u001b[0m\u001b[1;33m,\u001b[0m \u001b[0mt1\u001b[0m\u001b[1;33m,\u001b[0m \u001b[0mt2\u001b[0m\u001b[1;33m)\u001b[0m\u001b[1;33m\u001b[0m\u001b[0m\n\u001b[0m\u001b[0;32m      3\u001b[0m \u001b[1;31m#st = clientarclink.getWaveform(\"BW\", \"FURT\", \"*\", \"EHZ\", t1, t2)\u001b[0m\u001b[1;33m\u001b[0m\u001b[1;33m\u001b[0m\u001b[0m\n\u001b[0;32m      4\u001b[0m \u001b[1;32mprint\u001b[0m \u001b[0mst\u001b[0m\u001b[1;33m\u001b[0m\u001b[0m\n",
        "\u001b[1;32m/home/megies/git/obspy/obspy/arclink/client.py\u001b[0m in \u001b[0;36mgetWaveform\u001b[1;34m(self, network, station, location, channel, starttime, endtime, format, compressed, metadata, route, **kwargs)\u001b[0m\n\u001b[0;32m    413\u001b[0m             \u001b[0mmsg\u001b[0m \u001b[1;33m=\u001b[0m \u001b[1;34m\"Keywords getPAZ and getCoordinates are deprecated. \"\u001b[0m \u001b[1;33m+\u001b[0m\u001b[0;31m \u001b[0m\u001b[0;31m\\\u001b[0m\u001b[1;33m\u001b[0m\u001b[0m\n\u001b[0;32m    414\u001b[0m                   \u001b[1;34m\"Please use keyword metadata instead.\"\u001b[0m\u001b[1;33m\u001b[0m\u001b[0m\n\u001b[1;32m--> 415\u001b[1;33m             \u001b[0mwarnings\u001b[0m\u001b[1;33m.\u001b[0m\u001b[0mwarn\u001b[0m\u001b[1;33m(\u001b[0m\u001b[0mmsg\u001b[0m\u001b[1;33m,\u001b[0m \u001b[0mDeprecationWarning\u001b[0m\u001b[1;33m)\u001b[0m\u001b[1;33m\u001b[0m\u001b[0m\n\u001b[0m\u001b[0;32m    416\u001b[0m         \u001b[1;31m# handle deprecated keywords - one must be True to enable metadata\u001b[0m\u001b[1;33m\u001b[0m\u001b[1;33m\u001b[0m\u001b[0m\n\u001b[0;32m    417\u001b[0m         \u001b[0mmetadata\u001b[0m \u001b[1;33m=\u001b[0m \u001b[0mmetadata\u001b[0m \u001b[1;32mor\u001b[0m \u001b[0mkwargs\u001b[0m\u001b[1;33m.\u001b[0m\u001b[0mget\u001b[0m\u001b[1;33m(\u001b[0m\u001b[1;34m'getPAZ'\u001b[0m\u001b[1;33m,\u001b[0m \u001b[0mFalse\u001b[0m\u001b[1;33m)\u001b[0m \u001b[1;32mor\u001b[0m\u001b[0;31m \u001b[0m\u001b[0;31m\\\u001b[0m\u001b[1;33m\u001b[0m\u001b[0m\n",
        "\u001b[1;32m/home/megies/git/obspy/obspy/arclink/client.py\u001b[0m in \u001b[0;36msaveWaveform\u001b[1;34m(self, filename, network, station, location, channel, starttime, endtime, format, compressed, route, unpack)\u001b[0m\n\u001b[0;32m    532\u001b[0m             \u001b[1;32mtry\u001b[0m\u001b[1;33m:\u001b[0m\u001b[1;33m\u001b[0m\u001b[0m\n\u001b[0;32m    533\u001b[0m                 \u001b[1;32mimport\u001b[0m \u001b[0mbz2\u001b[0m\u001b[1;33m\u001b[0m\u001b[0m\n\u001b[1;32m--> 534\u001b[1;33m             \u001b[1;32mexcept\u001b[0m\u001b[1;33m:\u001b[0m\u001b[1;33m\u001b[0m\u001b[0m\n\u001b[0m\u001b[0;32m    535\u001b[0m                 \u001b[0mcompressed\u001b[0m \u001b[1;33m=\u001b[0m \u001b[0mFalse\u001b[0m\u001b[1;33m\u001b[0m\u001b[0m\n\u001b[0;32m    536\u001b[0m             \u001b[1;32melse\u001b[0m\u001b[1;33m:\u001b[0m\u001b[1;33m\u001b[0m\u001b[0m\n",
        "\u001b[1;32m/home/megies/git/obspy/obspy/arclink/client.py\u001b[0m in \u001b[0;36m_fetch\u001b[1;34m(self, request_type, request_data, route)\u001b[0m\n\u001b[0;32m    203\u001b[0m         \u001b[1;31m# location and channel information are ignored by ArcLink\u001b[0m\u001b[1;33m\u001b[0m\u001b[1;33m\u001b[0m\u001b[0m\n\u001b[0;32m    204\u001b[0m         routes = self.getRouting(network=request_data[2],\n\u001b[1;32m--> 205\u001b[1;33m                                  \u001b[0mstation\u001b[0m\u001b[1;33m=\u001b[0m\u001b[0mrequest_data\u001b[0m\u001b[1;33m[\u001b[0m\u001b[1;36m3\u001b[0m\u001b[1;33m]\u001b[0m\u001b[1;33m,\u001b[0m\u001b[1;33m\u001b[0m\u001b[0m\n\u001b[0m\u001b[0;32m    206\u001b[0m                                  \u001b[0mstarttime\u001b[0m\u001b[1;33m=\u001b[0m\u001b[0mrequest_data\u001b[0m\u001b[1;33m[\u001b[0m\u001b[1;36m0\u001b[0m\u001b[1;33m]\u001b[0m\u001b[1;33m,\u001b[0m\u001b[1;33m\u001b[0m\u001b[0m\n\u001b[0;32m    207\u001b[0m                                  endtime=request_data[1])\n",
        "\u001b[1;32m/home/megies/git/obspy/obspy/arclink/client.py\u001b[0m in \u001b[0;36mgetRouting\u001b[1;34m(self, network, station, starttime, endtime, modified_after)\u001b[0m\n\u001b[0;32m    588\u001b[0m         \u001b[1;33m:\u001b[0m\u001b[1;32mreturn\u001b[0m\u001b[1;33m:\u001b[0m \u001b[0mDictionary\u001b[0m \u001b[0mof\u001b[0m \u001b[0mhost\u001b[0m \u001b[0mnames\u001b[0m\u001b[1;33m.\u001b[0m\u001b[1;33m\u001b[0m\u001b[0m\n\u001b[0;32m    589\u001b[0m         \"\"\"\n\u001b[1;32m--> 590\u001b[1;33m         \u001b[1;31m# request type\u001b[0m\u001b[1;33m\u001b[0m\u001b[1;33m\u001b[0m\u001b[0m\n\u001b[0m\u001b[0;32m    591\u001b[0m         \u001b[0mrtype\u001b[0m \u001b[1;33m=\u001b[0m \u001b[1;34m'REQUEST ROUTING '\u001b[0m\u001b[1;33m\u001b[0m\u001b[0m\n\u001b[0;32m    592\u001b[0m         \u001b[1;32mif\u001b[0m \u001b[0mmodified_after\u001b[0m\u001b[1;33m:\u001b[0m\u001b[1;33m\u001b[0m\u001b[0m\n",
        "\u001b[1;32m/home/megies/git/obspy/obspy/arclink/client.py\u001b[0m in \u001b[0;36m_fetch\u001b[1;34m(self, request_type, request_data, route)\u001b[0m\n\u001b[0;32m    197\u001b[0m         \u001b[1;32mif\u001b[0m \u001b[1;32mnot\u001b[0m \u001b[0mroute\u001b[0m\u001b[1;33m:\u001b[0m\u001b[1;33m\u001b[0m\u001b[0m\n\u001b[0;32m    198\u001b[0m             \u001b[1;31m# always use initial node if routing is disabled\u001b[0m\u001b[1;33m\u001b[0m\u001b[1;33m\u001b[0m\u001b[0m\n\u001b[1;32m--> 199\u001b[1;33m             \u001b[0mself\u001b[0m\u001b[1;33m.\u001b[0m\u001b[0m_client\u001b[0m\u001b[1;33m.\u001b[0m\u001b[0mhost\u001b[0m \u001b[1;33m=\u001b[0m \u001b[0mself\u001b[0m\u001b[1;33m.\u001b[0m\u001b[0minit_host\u001b[0m\u001b[1;33m\u001b[0m\u001b[0m\n\u001b[0m\u001b[0;32m    200\u001b[0m             \u001b[0mself\u001b[0m\u001b[1;33m.\u001b[0m\u001b[0m_client\u001b[0m\u001b[1;33m.\u001b[0m\u001b[0mport\u001b[0m \u001b[1;33m=\u001b[0m \u001b[0mself\u001b[0m\u001b[1;33m.\u001b[0m\u001b[0minit_port\u001b[0m\u001b[1;33m\u001b[0m\u001b[0m\n\u001b[0;32m    201\u001b[0m             \u001b[1;32mreturn\u001b[0m \u001b[0mself\u001b[0m\u001b[1;33m.\u001b[0m\u001b[0m_request\u001b[0m\u001b[1;33m(\u001b[0m\u001b[0mrequest_type\u001b[0m\u001b[1;33m,\u001b[0m \u001b[0mrequest_data\u001b[0m\u001b[1;33m)\u001b[0m\u001b[1;33m\u001b[0m\u001b[0m\n",
        "\u001b[1;32m/home/megies/git/obspy/obspy/arclink/client.py\u001b[0m in \u001b[0;36m_request\u001b[1;34m(self, request_type, request_data)\u001b[0m\n\u001b[0;32m    314\u001b[0m             \u001b[0mself\u001b[0m\u001b[1;33m.\u001b[0m\u001b[0m_bye\u001b[0m\u001b[1;33m(\u001b[0m\u001b[1;33m)\u001b[0m\u001b[1;33m\u001b[0m\u001b[0m\n\u001b[0;32m    315\u001b[0m             \u001b[1;31m# parse XML for error message\u001b[0m\u001b[1;33m\u001b[0m\u001b[1;33m\u001b[0m\u001b[0m\n\u001b[1;32m--> 316\u001b[1;33m             \u001b[0mxml_doc\u001b[0m \u001b[1;33m=\u001b[0m \u001b[0mobjectify\u001b[0m\u001b[1;33m.\u001b[0m\u001b[0mfromstring\u001b[0m\u001b[1;33m(\u001b[0m\u001b[0mxml_doc\u001b[0m\u001b[1;33m[\u001b[0m\u001b[1;33m:\u001b[0m\u001b[1;33m-\u001b[0m\u001b[1;36m3\u001b[0m\u001b[1;33m]\u001b[0m\u001b[1;33m)\u001b[0m\u001b[1;33m\u001b[0m\u001b[0m\n\u001b[0m\u001b[0;32m    317\u001b[0m             \u001b[1;32mraise\u001b[0m \u001b[0mArcLinkException\u001b[0m\u001b[1;33m(\u001b[0m\u001b[0mxml_doc\u001b[0m\u001b[1;33m.\u001b[0m\u001b[0mrequest\u001b[0m\u001b[1;33m.\u001b[0m\u001b[0mvolume\u001b[0m\u001b[1;33m.\u001b[0m\u001b[0mline\u001b[0m\u001b[1;33m.\u001b[0m\u001b[0mget\u001b[0m\u001b[1;33m(\u001b[0m\u001b[1;34m'message'\u001b[0m\u001b[1;33m)\u001b[0m\u001b[1;33m)\u001b[0m\u001b[1;33m\u001b[0m\u001b[0m\n\u001b[0;32m    318\u001b[0m         \u001b[1;32melif\u001b[0m \u001b[1;34m'<line content'\u001b[0m \u001b[1;32mnot\u001b[0m \u001b[1;32min\u001b[0m \u001b[0mxml_doc\u001b[0m\u001b[1;33m:\u001b[0m\u001b[1;33m\u001b[0m\u001b[0m\n",
        "\u001b[1;31mArcLinkException\u001b[0m: Uncovered status message - contact a developer to fix this"
       ]
      }
     ],
     "prompt_number": 31
    },
    {
     "cell_type": "code",
     "collapsed": false,
     "input": [
      "print st"
     ],
     "language": "python",
     "metadata": {},
     "outputs": [
      {
       "output_type": "stream",
       "stream": "stdout",
       "text": [
        "1 Trace(s) in Stream:\n",
        "CH.AIGLE..HHZ | 2012-07-17T23:59:59.996666Z - 2012-07-18T00:00:59.996666Z | 120.0 Hz, 7201 samples\n"
       ]
      }
     ],
     "prompt_number": 9
    },
    {
     "cell_type": "code",
     "collapsed": false,
     "input": [
      "clientarclink.getInventory("
     ],
     "language": "python",
     "metadata": {},
     "outputs": []
    },
    {
     "cell_type": "code",
     "collapsed": false,
     "input": [
      "av = clientarclink.getInventory(\"CH\", \"AIGLE\", '*', \"HHZ\",  t1, t2, restricted=False, permanent=None)\n",
      "st = clientarclink.getWaveform(\"CH\", \"AIGLE\", av.keys()[0].split('.')[2], \"HHZ\", t1, t2)\n",
      "print av\n",
      "print st"
     ],
     "language": "python",
     "metadata": {},
     "outputs": [
      {
       "output_type": "stream",
       "stream": "stdout",
       "text": [
        "AttribDict({'CH.AIGLE..HHZ': [AttribDict({'sensitivity_frequency': 1.0, 'sensitivity': 627615000.0, 'sensitivity_unit': 'M/S', 'gain': 627615000.0, 'starttime': UTCDateTime(1998, 10, 19, 0, 0), 'endtime': None})], 'CH': AttribDict({'remark': '', 'code': 'CH', 'end': None, 'description': 'CH - Swiss Seismological Network', 'restricted': False, 'region': '', 'archive': 'SED', 'start': UTCDateTime(1980, 1, 1, 0, 0), 'net_class': '', 'type': '', 'institutions': ''}), 'CH.AIGLE': AttribDict({'remark': '', 'code': 'AIGLE', 'elevation': 800.0, 'description': 'Aigle', 'start': UTCDateTime(1998, 10, 19, 0, 0), 'restricted': False, 'archive_net': '', 'longitude': 6.95336, 'affiliation': 'CH - Swiss Seismological Network', 'depth': None, 'place': 'Aigle', 'country': '', 'latitude': 46.34161, 'end': None})})\n",
        "1 Trace(s) in Stream:\n",
        "CH.AIGLE..HHZ | 2012-07-17T23:59:59.996666Z - 2012-07-18T23:59:59.996666Z | 120.0 Hz, 10368001 samples\n"
       ]
      }
     ],
     "prompt_number": 18
    },
    {
     "cell_type": "code",
     "collapsed": false,
     "input": [
      "from obspy import read\n",
      "print read(\"/tmp/ArclinkRequest-13126599_ODC-ODC.mseed\")"
     ],
     "language": "python",
     "metadata": {},
     "outputs": [
      {
       "output_type": "stream",
       "stream": "stdout",
       "text": [
        "1 Trace(s) in Stream:\n",
        "CH.AIGLE..BHZ | 2013-08-08T00:00:10.234200Z - 2013-08-08T00:10:05.259200Z | 40.0 Hz, 23802 samples\n"
       ]
      }
     ],
     "prompt_number": 20
    },
    {
     "cell_type": "code",
     "collapsed": false,
     "input": [
      "\"%03i\" % 10"
     ],
     "language": "python",
     "metadata": {},
     "outputs": [
      {
       "metadata": {},
       "output_type": "pyout",
       "prompt_number": 21,
       "text": [
        "'010'"
       ]
      }
     ],
     "prompt_number": 21
    },
    {
     "cell_type": "code",
     "collapsed": false,
     "input": [
      "msg = \"bla \"\n",
      "      \"blup\"\n",
      "print msg"
     ],
     "language": "python",
     "metadata": {},
     "outputs": [
      {
       "ename": "IndentationError",
       "evalue": "unexpected indent (<ipython-input-6-ed999ab5b127>, line 2)",
       "output_type": "pyerr",
       "traceback": [
        "\u001b[1;36m  File \u001b[1;32m\"<ipython-input-6-ed999ab5b127>\"\u001b[1;36m, line \u001b[1;32m2\u001b[0m\n\u001b[1;33m    \"blup\"\u001b[0m\n\u001b[1;37m    ^\u001b[0m\n\u001b[1;31mIndentationError\u001b[0m\u001b[1;31m:\u001b[0m unexpected indent\n"
       ]
      }
     ],
     "prompt_number": 6
    }
   ],
   "metadata": {}
  }
 ]
}