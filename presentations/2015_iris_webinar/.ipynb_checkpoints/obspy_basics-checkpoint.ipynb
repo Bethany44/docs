{
 "metadata": {
  "name": ""
 },
 "nbformat": 3,
 "nbformat_minor": 0,
 "worksheets": [
  {
   "cells": [
    {
     "cell_type": "markdown",
     "metadata": {},
     "source": [
      "# Introduction to ObsPy Basics\n",
      "\n",
      " 1. IPython Notebook\n",
      " 2. Python in a Nutshell\n",
      " 3. ObsPy Basics"
     ]
    },
    {
     "cell_type": "markdown",
     "metadata": {},
     "source": [
      "## 1. IPython Notebook\n",
      "\n",
      "What you see here is the IPython HTML Notebook. It is similar to the workspaces offered by Mathematica and others. You can freely mix text, images, formulas, and sections of Python code. To execute any code block, just click in it and press **Ctrl + Return**. You can repeat this as many times as you like. If you make changes, please also remember to save the notebook on occasion (Button on the top left). The version on your computer **might not autosave** and there is no undo for deleting cells (there is Ctrl+Z undo inside cells).\n",
      "\n",
      "Things to know:\n",
      "\n",
      " - get help with ...?"
     ]
    },
    {
     "cell_type": "code",
     "collapsed": false,
     "input": [
      "max?"
     ],
     "language": "python",
     "metadata": {},
     "outputs": [],
     "prompt_number": 1
    },
    {
     "cell_type": "code",
     "collapsed": false,
     "input": [
      "from math import log\n",
      "log?"
     ],
     "language": "python",
     "metadata": {},
     "outputs": [],
     "prompt_number": 2
    },
    {
     "cell_type": "markdown",
     "metadata": {},
     "source": [
      " - get source code with ...?? (sometimes does not work for Python builtins realized in the C-layer)"
     ]
    },
    {
     "cell_type": "code",
     "collapsed": false,
     "input": [
      "from matplotlib.pyplot import plot\n",
      "plot??"
     ],
     "language": "python",
     "metadata": {},
     "outputs": [],
     "prompt_number": 3
    },
    {
     "cell_type": "markdown",
     "metadata": {},
     "source": [
      "- tab completion (on already imported) modules/functions\n",
      "\n",
      " - shows call syntax\n",
      " - shows docstring help\n",
      " - shows available functions in a module / methods defined on a object"
     ]
    },
    {
     "cell_type": "code",
     "collapsed": false,
     "input": [
      "import math\n",
      "# execute cell and then try math.<Tab>"
     ],
     "language": "python",
     "metadata": {},
     "outputs": [],
     "prompt_number": 4
    },
    {
     "cell_type": "code",
     "collapsed": false,
     "input": [
      "from numpy import arange\n",
      "x = arange(10)\n",
      "# try x.<Tab>\n",
      "# try x.argmax(<Tab>  or hit <Tab> multiple times, to dock the help in a new frame at the bottom\n",
      "x.argmax("
     ],
     "language": "python",
     "metadata": {},
     "outputs": [
      {
       "ename": "SyntaxError",
       "evalue": "invalid syntax (<ipython-input-5-869decb767ab>, line 5)",
       "output_type": "pyerr",
       "traceback": [
        "\u001b[1;36m  File \u001b[1;32m\"<ipython-input-5-869decb767ab>\"\u001b[1;36m, line \u001b[1;32m5\u001b[0m\n\u001b[1;33m    x.argmax(\u001b[0m\n\u001b[1;37m             ^\u001b[0m\n\u001b[1;31mSyntaxError\u001b[0m\u001b[1;31m:\u001b[0m invalid syntax\n"
       ]
      }
     ],
     "prompt_number": 5
    },
    {
     "cell_type": "markdown",
     "metadata": {},
     "source": [
      " - execution sequence matters!\n",
      "\n",
      "   - all cells share one global namespace\n",
      "   - execution order indicated by \"**`In [xx]`:**\""
     ]
    },
    {
     "cell_type": "code",
     "collapsed": false,
     "input": [
      "my_variable = 10"
     ],
     "language": "python",
     "metadata": {},
     "outputs": [],
     "prompt_number": 6
    },
    {
     "cell_type": "code",
     "collapsed": false,
     "input": [
      "print my_variable"
     ],
     "language": "python",
     "metadata": {},
     "outputs": [
      {
       "output_type": "stream",
       "stream": "stdout",
       "text": [
        "10\n"
       ]
      }
     ],
     "prompt_number": 7
    },
    {
     "cell_type": "code",
     "collapsed": false,
     "input": [
      "my_variable = 5"
     ],
     "language": "python",
     "metadata": {},
     "outputs": [],
     "prompt_number": 8
    },
    {
     "cell_type": "markdown",
     "metadata": {},
     "source": [
      "- longish output can be collapsed by clicking left of it\n",
      "  - one click: scrollable box\n",
      "- double-click: collapse output"
     ]
    },
    {
     "cell_type": "code",
     "collapsed": false,
     "input": [
      "for i in xrange(100):\n",
      "    print i"
     ],
     "language": "python",
     "metadata": {},
     "outputs": [
      {
       "output_type": "stream",
       "stream": "stdout",
       "text": [
        "0\n",
        "1\n",
        "2\n",
        "3\n",
        "4\n",
        "5\n",
        "6\n",
        "7\n",
        "8\n",
        "9\n",
        "10\n",
        "11\n",
        "12\n",
        "13\n",
        "14\n",
        "15\n",
        "16\n",
        "17\n",
        "18\n",
        "19\n",
        "20\n",
        "21\n",
        "22\n",
        "23\n",
        "24\n",
        "25\n",
        "26\n",
        "27\n",
        "28\n",
        "29\n",
        "30\n",
        "31\n",
        "32\n",
        "33\n",
        "34\n",
        "35\n",
        "36\n",
        "37\n",
        "38\n",
        "39\n",
        "40\n",
        "41\n",
        "42\n",
        "43\n",
        "44\n",
        "45\n",
        "46\n",
        "47\n",
        "48\n",
        "49\n",
        "50\n",
        "51\n",
        "52\n",
        "53\n",
        "54\n",
        "55\n",
        "56\n",
        "57\n",
        "58\n",
        "59\n",
        "60\n",
        "61\n",
        "62\n",
        "63\n",
        "64\n",
        "65\n",
        "66\n",
        "67\n",
        "68\n",
        "69\n",
        "70\n",
        "71\n",
        "72\n",
        "73\n",
        "74\n",
        "75\n",
        "76\n",
        "77\n",
        "78\n",
        "79\n",
        "80\n",
        "81\n",
        "82\n",
        "83\n",
        "84\n",
        "85\n",
        "86\n",
        "87\n",
        "88\n",
        "89\n",
        "90\n",
        "91\n",
        "92\n",
        "93\n",
        "94\n",
        "95\n",
        "96\n",
        "97\n",
        "98\n",
        "99\n"
       ]
      }
     ],
     "prompt_number": 9
    },
    {
     "cell_type": "markdown",
     "metadata": {},
     "source": [
      "### 2. Python in nutshell\n",
      "\n",
      "Very quick overview for people with knowledge in other programming languages."
     ]
    },
    {
     "cell_type": "markdown",
     "metadata": {},
     "source": [
      "#### 2.1. Variables\n",
      "\n",
      "Variables are assigned with the equal sign - no need to specify the type (dynamically typed language)."
     ]
    },
    {
     "cell_type": "code",
     "collapsed": false,
     "input": [
      "a = \"a\"\n",
      "b = 1\n",
      "c = 1.3\n",
      "d = True\n",
      "e = False\n",
      "\n",
      "print type(a)\n",
      "print type(b)\n",
      "print type(c)\n",
      "print type(d), type(e)"
     ],
     "language": "python",
     "metadata": {},
     "outputs": [
      {
       "output_type": "stream",
       "stream": "stdout",
       "text": [
        "<type 'str'>\n",
        "<type 'int'>\n",
        "<type 'float'>\n",
        "<type 'bool'> <type 'bool'>\n"
       ]
      }
     ],
     "prompt_number": 10
    },
    {
     "cell_type": "markdown",
     "metadata": {},
     "source": [
      "#### 2.2. Container types\n",
      "\n",
      "The most used container types are lists and dictionaries.\n",
      "\n",
      "Lists are an ordered collection of objects. Everything in Python is an object so it can contain numbers, strings, other lists, functions, ...\n",
      "\n",
      "They are created with squared brackets."
     ]
    },
    {
     "cell_type": "code",
     "collapsed": false,
     "input": [
      "# Create with square brackets.\n",
      "some_list = [1, \"a\", [1, 2], True]\n",
      "# Add a new elements with the append() method.\n",
      "some_list.append(False)\n",
      "print some_list\n",
      "print some_list[0]\n",
      "\n",
      "# Python uses zero-based indexing. Using a negative index will cause Python to add\n",
      "# the length of the list to the index. Thus one can access elements at the back.\n",
      "print some_list[0], some_list[-1]"
     ],
     "language": "python",
     "metadata": {},
     "outputs": [
      {
       "output_type": "stream",
       "stream": "stdout",
       "text": [
        "[1, 'a', [1, 2], True, False]\n",
        "1\n",
        "1 False\n"
       ]
      }
     ],
     "prompt_number": 11
    },
    {
     "cell_type": "markdown",
     "metadata": {},
     "source": [
      "Dictionaries store arbitrary key, value pairs. The difference to a list is that one does not use an index to refer to a certain element in it but rather a key. In other languages this is also known as a hashmap or an associative array."
     ]
    },
    {
     "cell_type": "code",
     "collapsed": false,
     "input": [
      "some_dict = {\"a\": 1, \"b\": 2}\n",
      "some_dict[\"c\"] = 3\n",
      "print some_dict\n",
      "print some_dict[\"b\"]"
     ],
     "language": "python",
     "metadata": {},
     "outputs": [
      {
       "output_type": "stream",
       "stream": "stdout",
       "text": [
        "{'a': 1, 'c': 3, 'b': 2}\n",
        "2\n"
       ]
      }
     ],
     "prompt_number": 12
    },
    {
     "cell_type": "markdown",
     "metadata": {},
     "source": [
      "#### 2.3 Control flow\n",
      "\n",
      "Intendation groups code blocks! No need for brackets."
     ]
    },
    {
     "cell_type": "code",
     "collapsed": false,
     "input": [
      "a = 1\n",
      "b = 2\n",
      "\n",
      "if a == 1 and b != 1:\n",
      "    print \"a is 1 and b not\"\n",
      "elif b == 1:\n",
      "    print \"b is not 1\"\n",
      "else:\n",
      "    print \"Something else happened\""
     ],
     "language": "python",
     "metadata": {},
     "outputs": [
      {
       "output_type": "stream",
       "stream": "stdout",
       "text": [
        "a is 1 and b not\n"
       ]
      }
     ],
     "prompt_number": 13
    },
    {
     "cell_type": "code",
     "collapsed": false,
     "input": [
      "# Python support \"for each\" loops. One essentially\n",
      "# iterates over every item in a container.\n",
      "some_list = [\"a\", \"b\", \"c\"]\n",
      "for i in some_list:\n",
      "    print i\n",
      "    \n",
      "# To loop a certain amount of time, use the xrange() function.\n",
      "sum = 0\n",
      "for i in xrange(10):\n",
      "    sum += i\n",
      "print sum"
     ],
     "language": "python",
     "metadata": {},
     "outputs": [
      {
       "output_type": "stream",
       "stream": "stdout",
       "text": [
        "a\n",
        "b\n",
        "c\n",
        "45\n"
       ]
      }
     ],
     "prompt_number": 14
    },
    {
     "cell_type": "markdown",
     "metadata": {},
     "source": [
      "## 3. ObsPy\n",
      "\n",
      "Goal: Familiarize Yourself With ObsPy\u2019s Main\n",
      "Objects and Functions\n",
      "\n",
      "### 3.1 obspy.core - Central module that is the glue between all other ObsPy modules. \n",
      "\n",
      "- Provides all important base classes and functions\n",
      "  * The **`UTCDateTime`** class. Used to deal with time information.\n",
      "  * The **`Trace`** class. Deals with a single chunk of contiguous waveform data.\n",
      "  * The **`Stream`** class. A collection of traces. Eases organization and multi-component/bulk processing.\n",
      "  * The **`Event`** class. Modelled after QuakeML.\n",
      "  * The **`Catalog`** class. A collection of events. Modelled after QuakeML.\n",
      "  * The **`read()`** function. Reads all kinds of waveform file formats. Outputs a **`Stream`** object\n",
      "  * The **`readEvents()`** function. Reads QuakeML files. Outputs a **`Catalog`** object\n",
      "\n",
      "- Unified interface and functionality for handling waveform data in form of the **`Stream`** and **`Trace`** classes\n",
      "- All absolute time values within ObsPy are consistently handled with the **`UTCDateTime`** class\n",
      "- provides **`read()`** and **`readEvents()`** functions to read local data via the appropriate submodule (filetype autodiscovery)\n",
      "- Event data is handled with the **`Event`** class\n",
      "- Generally useful utility classes, general utility methods (e.g. for geodetic calculations)\n",
      "- Management of submodule/plugin discovery and binding, a global test script for running all submodule tests, ...\n",
      "\n",
      "#### Handling Time - The **`UTCDateTime`** Class\n",
      "\n",
      " - All absolute time values are consistently handled with this class\n",
      " - No need to worry about timezones (can be specified at initialization, internally)\n",
      " - Based on a high precision POSIX timestamp and not the Python datetime class because precision was an issue\n",
      "\n",
      "#### Features of **`UTCDateTime`**\n",
      "\n",
      " - Initialization"
     ]
    },
    {
     "cell_type": "code",
     "collapsed": false,
     "input": [
      "from obspy import UTCDateTime\n",
      "print UTCDateTime(\"2012-09-07T12:15:00\")  # mostly time strings defined by ISO standard\n",
      "print UTCDateTime(2012, 9, 7, 12, 15, 0)\n",
      "print UTCDateTime(1347020100.0)\n",
      "UTCDateTime?"
     ],
     "language": "python",
     "metadata": {},
     "outputs": [
      {
       "output_type": "stream",
       "stream": "stdout",
       "text": [
        "2012-09-07T12:15:00.000000Z\n",
        "2012-09-07T12:15:00.000000Z\n",
        "2012-09-07T12:15:00.000000Z\n"
       ]
      }
     ],
     "prompt_number": 15
    },
    {
     "cell_type": "markdown",
     "metadata": {},
     "source": [
      " - Time zone support"
     ]
    },
    {
     "cell_type": "code",
     "collapsed": false,
     "input": [
      "print UTCDateTime(\"2012-09-07T12:15:00+02:00\")"
     ],
     "language": "python",
     "metadata": {},
     "outputs": [
      {
       "output_type": "stream",
       "stream": "stdout",
       "text": [
        "2012-09-07T10:15:00"
       ]
      }
     ],
     "prompt_number": 16
    },
    {
     "cell_type": "markdown",
     "metadata": {},
     "source": [
      " - Attribute access"
     ]
    },
    {
     "cell_type": "code",
     "collapsed": false,
     "input": [
      "time = UTCDateTime(\"2012-09-07T12:15:00\")\n",
      "print time.year\n",
      "print time.julday\n",
      "print time.timestamp\n",
      "print time.weekday\n",
      "# try time.<Tab>"
     ],
     "language": "python",
     "metadata": {},
     "outputs": [
      {
       "output_type": "stream",
       "stream": "stdout",
       "text": [
        "2012\n",
        "251\n",
        "1347020100.0\n",
        "4\n"
       ]
      }
     ],
     "prompt_number": 17
    },
    {
     "cell_type": "markdown",
     "metadata": {},
     "source": [
      " - Handling time differences\n",
      "   - \"**`+`**\" defined to add seconds to an **`UTCDateTime`** object\n",
      "   - \"**`-`**\" defined to get time difference of two **`UTCDateTime`** objects"
     ]
    },
    {
     "cell_type": "code",
     "collapsed": false,
     "input": [
      "time = UTCDateTime(\"2012-09-07T12:15:00\")\n",
      "print time"
     ],
     "language": "python",
     "metadata": {},
     "outputs": [
      {
       "output_type": "stream",
       "stream": "stdout",
       "text": [
        "2012-09-07T12:15:00"
       ]
      }
     ],
     "prompt_number": 18
    },
    {
     "cell_type": "code",
     "collapsed": false,
     "input": [
      "print time + 3600"
     ],
     "language": "python",
     "metadata": {},
     "outputs": [
      {
       "output_type": "stream",
       "stream": "stdout",
       "text": [
        "2012-09-07T13:15:00"
       ]
      }
     ],
     "prompt_number": 19
    },
    {
     "cell_type": "code",
     "collapsed": false,
     "input": [
      "time2 = UTCDateTime(2012, 1, 1)\n",
      "print time - time2"
     ],
     "language": "python",
     "metadata": {},
     "outputs": [
      {
       "output_type": "stream",
       "stream": "stdout",
       "text": [
        "21644100.0\n"
       ]
      }
     ],
     "prompt_number": 20
    },
    {
     "cell_type": "markdown",
     "metadata": {},
     "source": [
      "#### **`UTCDateTime`** - Exercises"
     ]
    },
    {
     "cell_type": "markdown",
     "metadata": {},
     "source": [
      " - Calculate the number of days passed since your birth.\n",
      "   - The current date and time can be obtained with **`UTCDateTime()`**\n",
      "   - Optional: Include the correct time zone"
     ]
    },
    {
     "cell_type": "code",
     "collapsed": false,
     "input": [],
     "language": "python",
     "metadata": {},
     "outputs": [],
     "prompt_number": 20
    },
    {
     "cell_type": "markdown",
     "metadata": {},
     "source": [
      " - Get a list of 10 UTCDateTime objects, starting yesterday at 10:00\n",
      "with a spacing of 90 minutes."
     ]
    },
    {
     "cell_type": "code",
     "collapsed": false,
     "input": [],
     "language": "python",
     "metadata": {},
     "outputs": [],
     "prompt_number": 20
    },
    {
     "cell_type": "markdown",
     "metadata": {},
     "source": [
      "#### Handling Waveform Data"
     ]
    },
    {
     "cell_type": "code",
     "collapsed": false,
     "input": [
      "from obspy import read\n",
      "st = read(\"http://examples.obspy.org/BW.BGLD..EH.D.2010.037\", format=\"MSEED\")\n",
      "print st"
     ],
     "language": "python",
     "metadata": {},
     "outputs": [
      {
       "output_type": "stream",
       "stream": "stdout",
       "text": [
        "3 Trace(s) in Stream:\n",
        "BW.BGLD..EHE | 2010-02-06T04:50:15.000000Z - 2010-02-06T05:01:55.000000Z | 200.0 Hz, 140001 samples\n",
        "BW.BGLD..EHN | 2010-02-06T04:50:15.000000Z - 2010-02-06T05:01:55.000000Z | 200.0 Hz, 140001 samples\n",
        "BW.BGLD..EHZ | 2010-02-06T04:50:15.000000Z - 2010-02-06T05:01:55.000000Z | 200.0 Hz, 140001 samples\n"
       ]
      }
     ],
     "prompt_number": 21
    },
    {
     "cell_type": "markdown",
     "metadata": {},
     "source": [
      "- Automatic file format detection, no need to worry about file formats\n",
      "\n",
      "  - currently supported: **mseed, sac, segy, seg2, gse2, seisan, sh, datamark, css, wav**\n",
      "\n",
      "- Always results in a **`Stream`** object."
     ]
    },
    {
     "cell_type": "markdown",
     "metadata": {},
     "source": [
      "#### The Stream Object\n",
      "\n",
      " - A Stream object is a collection of Trace objects"
     ]
    },
    {
     "cell_type": "code",
     "collapsed": false,
     "input": [
      "from obspy import read\n",
      "st = read()\n",
      "print type(st)"
     ],
     "language": "python",
     "metadata": {},
     "outputs": [
      {
       "output_type": "stream",
       "stream": "stdout",
       "text": [
        "<class 'obspy.core.stream.Stream'>\n"
       ]
      }
     ],
     "prompt_number": 22
    },
    {
     "cell_type": "code",
     "collapsed": false,
     "input": [
      "print st"
     ],
     "language": "python",
     "metadata": {},
     "outputs": [
      {
       "output_type": "stream",
       "stream": "stdout",
       "text": [
        "3 Trace(s) in Stream:\n",
        "BW.RJOB..EHZ | 2009-08-24T00:20:03.000000Z - 2009-08-24T00:20:32.990000Z | 100.0 Hz, 3000 samples\n",
        "BW.RJOB..EHN | 2009-08-24T00:20:03.000000Z - 2009-08-24T00:20:32.990000Z | 100.0 Hz, 3000 samples\n",
        "BW.RJOB..EHE | 2009-08-24T00:20:03.000000Z - 2009-08-24T00:20:32.990000Z | 100.0 Hz, 3000 samples\n"
       ]
      }
     ],
     "prompt_number": 23
    },
    {
     "cell_type": "code",
     "collapsed": false,
     "input": [
      "print st.traces"
     ],
     "language": "python",
     "metadata": {},
     "outputs": [
      {
       "output_type": "stream",
       "stream": "stdout",
       "text": [
        "[<obspy.core.trace.Trace object at 0x7fd830060cd0>, <obspy.core.trace.Trace object at 0x2a87910>, <obspy.core.trace.Trace object at 0x7fd8300bf990>]\n"
       ]
      }
     ],
     "prompt_number": 24
    },
    {
     "cell_type": "code",
     "collapsed": false,
     "input": [
      "print st[0]"
     ],
     "language": "python",
     "metadata": {},
     "outputs": [
      {
       "output_type": "stream",
       "stream": "stdout",
       "text": [
        "BW.RJOB..EHZ | 2009-08-24T00:20:03.000000Z - 2009-08-24T00:20:32.990000Z | 100.0 Hz, 3000 samples\n"
       ]
      }
     ],
     "prompt_number": 25
    },
    {
     "cell_type": "markdown",
     "metadata": {},
     "source": [
      " - convenient (and nicely readable) looping over traces"
     ]
    },
    {
     "cell_type": "code",
     "collapsed": false,
     "input": [
      "for tr in st:\n",
      "    print tr.id"
     ],
     "language": "python",
     "metadata": {},
     "outputs": [
      {
       "output_type": "stream",
       "stream": "stdout",
       "text": [
        "BW.RJOB..EHZ\n",
        "BW.RJOB..EHN\n",
        "BW.RJOB..EHE\n"
       ]
      }
     ],
     "prompt_number": 26
    },
    {
     "cell_type": "markdown",
     "metadata": {},
     "source": [
      "#### The Trace Object\n",
      "\n",
      "- A Trace object is a single, continuous waveform data block\n",
      "- It furthermore contains a limited amount of metadata in a dictionary-like object (as **`Trace.stats`**)"
     ]
    },
    {
     "cell_type": "code",
     "collapsed": false,
     "input": [
      "st = read()\n",
      "tr = st[0]\n",
      "print tr"
     ],
     "language": "python",
     "metadata": {},
     "outputs": [
      {
       "output_type": "stream",
       "stream": "stdout",
       "text": [
        "BW.RJOB..EHZ | 2009-08-24T00:20:03.000000Z - 2009-08-24T00:20:32.990000Z | 100.0 Hz, 3000 samples\n"
       ]
      }
     ],
     "prompt_number": 27
    },
    {
     "cell_type": "code",
     "collapsed": false,
     "input": [
      "print tr.stats"
     ],
     "language": "python",
     "metadata": {},
     "outputs": [
      {
       "output_type": "stream",
       "stream": "stdout",
       "text": [
        "         network: BW\n",
        "         station: RJOB\n",
        "        location: \n",
        "         channel: EHZ\n",
        "       starttime: 2009-08-24T00:20:03.000000Z\n",
        "         endtime: 2009-08-24T00:20:32.990000Z\n",
        "   sampling_rate: 100.0\n",
        "           delta: 0.01\n",
        "            npts: 3000\n",
        "           calib: 1.0\n",
        "    back_azimuth: 100.0\n",
        "     inclination: 30.0\n"
       ]
      }
     ],
     "prompt_number": 28
    },
    {
     "cell_type": "markdown",
     "metadata": {},
     "source": [
      "- For custom applications it is often necessary to directly manipulate the metadata of a Trace.\n",
      "- The state of the Trace will **stay consistent**, as all values are derived from the starttime, the data and the sampling rate and are **updated automatically**"
     ]
    },
    {
     "cell_type": "code",
     "collapsed": true,
     "input": [
      "print tr.stats.delta, \"|\", tr.stats.endtime"
     ],
     "language": "python",
     "metadata": {},
     "outputs": [
      {
       "output_type": "stream",
       "stream": "stdout",
       "text": [
        "0.01 | 2009-08-24T00:20:32.990000Z\n"
       ]
      }
     ],
     "prompt_number": 29
    },
    {
     "cell_type": "code",
     "collapsed": true,
     "input": [
      "tr.stats.sampling_rate = 5.0\n",
      "print tr.stats.delta, \"|\", tr.stats.endtime"
     ],
     "language": "python",
     "metadata": {},
     "outputs": [
      {
       "output_type": "stream",
       "stream": "stdout",
       "text": [
        "0.2 | 2009-08-24T00:30:02.800000Z\n"
       ]
      }
     ],
     "prompt_number": 30
    },
    {
     "cell_type": "code",
     "collapsed": true,
     "input": [
      "print tr.stats.npts"
     ],
     "language": "python",
     "metadata": {},
     "outputs": [
      {
       "output_type": "stream",
       "stream": "stdout",
       "text": [
        "3000\n"
       ]
      }
     ],
     "prompt_number": 31
    },
    {
     "cell_type": "code",
     "collapsed": true,
     "input": [
      "tr.data = tr.data[:100]\n",
      "print tr.stats.npts, \"|\", tr.stats.endtime"
     ],
     "language": "python",
     "metadata": {},
     "outputs": [
      {
       "output_type": "stream",
       "stream": "stdout",
       "text": [
        "100 | 2009-08-24T00:20:22.800000Z\n"
       ]
      }
     ],
     "prompt_number": 32
    },
    {
     "cell_type": "markdown",
     "metadata": {},
     "source": [
      "- Working with them is easy, with a lot of attached methods."
     ]
    },
    {
     "cell_type": "code",
     "collapsed": false,
     "input": [
      "print tr\n",
      "tr.resample(sampling_rate=10.0)\n",
      "print tr"
     ],
     "language": "python",
     "metadata": {},
     "outputs": [
      {
       "output_type": "stream",
       "stream": "stdout",
       "text": [
        "BW.RJOB..EHZ | 2009-08-24T00:20:03.000000Z - 2009-08-24T00:20:22.800000Z | 5.0 Hz, 100 samples\n",
        "BW.RJOB..EHZ | 2009-08-24T00:20:03.000000Z - 2009-08-24T00:20:22.900000Z | 10.0 Hz, 200 samples"
       ]
      },
      {
       "output_type": "stream",
       "stream": "stdout",
       "text": [
        "\n"
       ]
      }
     ],
     "prompt_number": 33
    },
    {
     "cell_type": "code",
     "collapsed": false,
     "input": [
      "print tr\n",
      "tr.trim(tr.stats.starttime + 2, tr.stats.endtime - 2)\n",
      "print tr"
     ],
     "language": "python",
     "metadata": {},
     "outputs": [
      {
       "output_type": "stream",
       "stream": "stdout",
       "text": [
        "BW.RJOB..EHZ | 2009-08-24T00:20:03.000000Z - 2009-08-24T00:20:22.900000Z | 10.0 Hz, 200 samples\n",
        "BW.RJOB..EHZ | 2009-08-24T00:20:05.000000Z - 2009-08-24T00:20:20.900000Z | 10.0 Hz, 160 samples\n"
       ]
      }
     ],
     "prompt_number": 34
    },
    {
     "cell_type": "code",
     "collapsed": false,
     "input": [
      "tr.detrend(\"linear\")\n",
      "tr.filter(\"highpass\", freq=2.0)\n",
      "# try tr.<Tab> !"
     ],
     "language": "python",
     "metadata": {},
     "outputs": [],
     "prompt_number": 35
    },
    {
     "cell_type": "markdown",
     "metadata": {},
     "source": [
      "- Raw data available as a [**`numpy.ndarray`**](http://docs.scipy.org/doc/numpy/reference/generated/numpy.ndarray.html) (as **`Trace.data`**)"
     ]
    },
    {
     "cell_type": "code",
     "collapsed": false,
     "input": [
      "print tr.data[:20]"
     ],
     "language": "python",
     "metadata": {},
     "outputs": [
      {
       "output_type": "stream",
       "stream": "stdout",
       "text": [
        "[ -9.80071219e+00   2.20858403e+01  -6.15674207e+00  -1.14819340e+01\n",
        "  -4.66575401e-01   5.65965478e+00   2.83153846e+00  -1.37773068e+00\n",
        "  -1.95233539e+00  -2.38615580e-01   7.99589335e-01   4.63869452e-01\n",
        "  -1.65410022e-01  -2.81873437e-01  -3.89257266e-02   1.18099465e-01\n",
        "   6.80466911e-02  -3.17595440e-02  -5.33383216e-02  -1.39293867e-02]\n"
       ]
      }
     ],
     "prompt_number": 36
    },
    {
     "cell_type": "markdown",
     "metadata": {},
     "source": [
      "- Data can be directly modified e.g. ..\n",
      "\n",
      "..by doing arithmetic operations (fast, handled in C by NumPy!)"
     ]
    },
    {
     "cell_type": "code",
     "collapsed": false,
     "input": [
      "print tr.data ** 2 + 0.5"
     ],
     "language": "python",
     "metadata": {},
     "outputs": [
      {
       "output_type": "stream",
       "stream": "stdout",
       "text": [
        "[  96.55395937  488.28434393   38.40547294  132.33480913    0.7176926\n",
        "   32.53169224    8.51761007    2.39814182    4.31161346    0.5569374\n",
        "    1.1393431     0.71517487    0.52736048    0.57945263    0.50151521\n",
        "    0.51394748    0.50463035    0.50100867    0.50284498    0.50019403\n",
        "    0.5002027     0.50004131    0.50002073    0.50012891    0.50102016\n",
        "    0.50013671    0.50169024    0.50302506    0.50008285    0.50738278\n",
        "    0.50604552    0.50026021    0.50909705    0.50735196    0.5003127\n",
        "    0.50137965    0.50305677    0.50282146    0.50099359    0.50031483\n",
        "    0.50445749    0.50427834    0.50005104    0.50309638    0.50521693\n",
        "    0.50173366    0.50004988    0.50259811    0.50535453    0.50304883\n",
        "    0.50000048    0.5029885     0.50390619    0.50061395    0.50027711\n",
        "    0.50087649    0.50033442    0.50001058    0.50141512    0.50662155\n",
        "    0.50784333    0.50000199    0.52874465    0.57419916    0.52437388\n",
        "    0.52107072    0.63556449    0.568617      0.5122714     0.64803105\n",
        "    0.5713565     0.51700987    0.66127098    0.58075518    0.50553919\n",
        "    0.59595794    0.55732197    0.50021727    0.51085208    0.50281404\n",
        "    0.50002491    0.50450228    0.52981314    0.51030534    0.5242312\n",
        "    0.60488793    0.52609017    0.53832708    0.62005895    0.51168979\n",
        "    0.5530943     0.5594271     0.50975096    0.63619816    0.53388131\n",
        "    0.59719028    0.81832413    0.55186327    0.65712742    0.90181943\n",
        "    0.5351979     0.72064815    0.84304714    0.50009321    0.84519481\n",
        "    0.74027617    0.53868637    0.9489925     0.65670125    0.58121575\n",
        "    0.88729768    0.61468876    0.52632394    0.64605421    0.56890572\n",
        "    0.50418829    0.5035543     0.52736003    0.5632083     0.5243992\n",
        "    0.52784617    0.68124016    0.56778308    0.56433847    0.82849267\n",
        "    0.58778448    0.59270186    0.80559789    0.53042971    0.62881272\n",
        "    0.6594968     0.50811022    0.74523247    0.5830064     0.62100224\n",
        "    1.00646506    0.62220332    0.69695661    1.30684667    0.78633447\n",
        "    0.60932368    1.2605727     0.82896299    0.55491959    1.01262572\n",
        "    0.67138158    0.58083105    0.87146915    0.56785184    0.60238935\n",
        "    0.7500899     0.52082953    0.60688138    0.70348942    0.52460562\n",
        "    0.57413624    0.74659019    0.62036801    0.50629809    0.69296937]\n"
       ]
      }
     ],
     "prompt_number": 37
    },
    {
     "cell_type": "markdown",
     "metadata": {},
     "source": [
      "..by using [**`numpy.ndarray`** builtin methods](http://docs.scipy.org/doc/numpy/reference/generated/numpy.ndarray.html) (also done in C by NumPy)"
     ]
    },
    {
     "cell_type": "code",
     "collapsed": false,
     "input": [
      "print tr.data.max()\n",
      "print tr.data.mean()\n",
      "print tr.data.ptp()\n",
      "# try tr.data.<Tab> for a list of numpy methods defined on ndarray"
     ],
     "language": "python",
     "metadata": {},
     "outputs": [
      {
       "output_type": "stream",
       "stream": "stdout",
       "text": [
        "22.0858403492\n",
        "-0.000442813522788\n",
        "33.5677743817\n"
       ]
      }
     ],
     "prompt_number": 38
    },
    {
     "cell_type": "markdown",
     "metadata": {},
     "source": [
      "..by using **`numpy`** functions (also done in C by NumPy)"
     ]
    },
    {
     "cell_type": "code",
     "collapsed": false,
     "input": [
      "import numpy as np\n",
      "print np.abs(tr.data)\n",
      "# you can try np.<Tab> but there is a lot in there\n",
      "# try np.a<Tab>"
     ],
     "language": "python",
     "metadata": {},
     "outputs": [
      {
       "output_type": "stream",
       "stream": "stdout",
       "text": [
        "[  9.80071219e+00   2.20858403e+01   6.15674207e+00   1.14819340e+01\n",
        "   4.66575401e-01   5.65965478e+00   2.83153846e+00   1.37773068e+00\n",
        "   1.95233539e+00   2.38615580e-01   7.99589335e-01   4.63869452e-01\n",
        "   1.65410022e-01   2.81873437e-01   3.89257266e-02   1.18099465e-01\n",
        "   6.80466911e-02   3.17595440e-02   5.33383216e-02   1.39293867e-02\n",
        "   1.42371991e-02   6.42715559e-03   4.55346273e-03   1.13538044e-02\n",
        "   3.19399632e-02   1.16925013e-02   4.11124736e-02   5.50005440e-02\n",
        "   9.10222219e-03   8.59231189e-02   7.77529624e-02   1.61311485e-02\n",
        "   9.53784418e-02   8.57435499e-02   1.76832236e-02   3.71436018e-02\n",
        "   5.52880284e-02   5.31174582e-02   3.15212249e-02   1.77434399e-02\n",
        "   6.67644278e-02   6.54090163e-02   7.14453054e-03   5.56450927e-02\n",
        "   7.22283512e-02   4.16372881e-02   7.06225114e-03   5.09717062e-02\n",
        "   7.31746649e-02   5.52161986e-02   6.89442771e-04   5.46672091e-02\n",
        "   6.24995490e-02   2.47780402e-02   1.66466242e-02   2.96055268e-02\n",
        "   1.82870920e-02   3.25206563e-03   3.76181045e-02   8.13729140e-02\n",
        "   8.85625734e-02   1.40936057e-03   1.69542463e-01   2.72395235e-01\n",
        "   1.56121357e-01   1.45157576e-01   3.68190837e-01   2.61948473e-01\n",
        "   1.10776329e-01   3.84748037e-01   2.67126375e-01   1.30421902e-01\n",
        "   4.01585582e-01   2.84174555e-01   7.44257534e-02   3.09770794e-01\n",
        "   2.39420069e-01   1.47401464e-02   1.04173316e-01   5.30475054e-02\n",
        "   4.99091735e-03   6.70990173e-02   1.72664822e-01   1.01515198e-01\n",
        "   1.55663728e-01   3.23864054e-01   1.61524518e-01   1.95773042e-01\n",
        "   3.46495237e-01   1.08119345e-01   2.30422009e-01   2.43776732e-01\n",
        "   9.87469266e-02   3.69050347e-01   1.84068776e-01   3.11753550e-01\n",
        "   5.64202211e-01   2.27735091e-01   3.96393018e-01   6.33892283e-01\n",
        "   1.87611033e-01   4.69732002e-01   5.85702259e-01   9.65445342e-03\n",
        "   5.87532813e-01   4.90179729e-01   1.96688522e-01   6.70069029e-01\n",
        "   3.95855091e-01   2.84983778e-01   6.22332453e-01   3.38657293e-01\n",
        "   1.62246539e-01   3.82170392e-01   2.62498997e-01   6.47169786e-02\n",
        "   5.96179723e-02   1.65408670e-01   2.51412605e-01   1.56202446e-01\n",
        "   1.66871715e-01   4.25723105e-01   2.60351839e-01   2.53650283e-01\n",
        "   5.73142802e-01   2.96284454e-01   3.04469803e-01   5.52809094e-01\n",
        "   1.74441147e-01   3.58904893e-01   3.99370504e-01   9.00567812e-02\n",
        "   4.95209524e-01   2.88108313e-01   3.47853765e-01   7.11663589e-01\n",
        "   3.49575911e-01   4.43797943e-01   8.98246444e-01   5.35102303e-01\n",
        "   3.30641322e-01   8.72108190e-01   5.73552955e-01   2.34349290e-01\n",
        "   7.15978852e-01   4.13982589e-01   2.84308013e-01   6.09482687e-01\n",
        "   2.60483849e-01   3.19983362e-01   5.00089895e-01   1.44324406e-01\n",
        "   3.26927176e-01   4.51098016e-01   1.56861802e-01   2.72279718e-01\n",
        "   4.96578483e-01   3.46940927e-01   7.93604991e-02   4.39282795e-01]\n"
       ]
      }
     ],
     "prompt_number": 39
    },
    {
     "cell_type": "markdown",
     "metadata": {},
     "source": [
      "..by feeding pointers to existing C/Fortran routines from inside Python!\n",
      "\n",
      "This is done internally in several places, e.g. for cross correlations, beamforming or in third-party filetype libraries e.g. libmseed."
     ]
    },
    {
     "cell_type": "markdown",
     "metadata": {},
     "source": [
      "#### Builtin methods defined on **`Stream`** / **`Trace`**\n",
      "\n",
      "- Most methods that work on a Trace object also work on a Stream object. They are simply executed for every trace.\n",
      " - **`st.filter()`** - Filter all attached traces.\n",
      " - **`st.trim()`** - Cut all traces.\n",
      " - **`st.resample()`** / **`st.decimate()`** - Change the sampling rate.\n",
      " - **`st.trigger()`** - Run triggering algorithms.\n",
      " - **`st.plot()`** / **`st.spectrogram()`** - Visualize the data.\n",
      " - **`st.simulate()`**, **`st.merge()`**, **`st.normalize()`**, **`st.detrend()`**, ...\n",
      "- A **`Stream`** object can also be exported to many formats making ObsPy a good tool for converting between different file formats."
     ]
    },
    {
     "cell_type": "code",
     "collapsed": false,
     "input": [
      "st = read(\"http://examples.obspy.org/BW.BGLD..EH.D.2010.037\")\n",
      "st.write(\"/tmp/output_file.sac\", format=\"SAC\")\n",
      "!ls -l /tmp/output_file*.sac"
     ],
     "language": "python",
     "metadata": {},
     "outputs": [
      {
       "output_type": "stream",
       "stream": "stdout",
       "text": [
        "-rw------- 1 megies users 560636 Aug 20 14:26 /tmp/output_file01.sac\r\n",
        "-rw------- 1 megies users 560636 Aug 20 14:26 /tmp/output_file02.sac\r\n",
        "-rw------- 1 megies users 560636 Aug 20 14:26 /tmp/output_file03.sac\r\n"
       ]
      }
     ],
     "prompt_number": 40
    },
    {
     "cell_type": "markdown",
     "metadata": {},
     "source": [
      "#### Trace Exercise 1\n",
      " - Make an **`numpy.ndarray`** with zeros and (e.g. use **`numpy.zeros()`**) and put an ideal pulse somewhere in it\n",
      " - initialize a **`Trace`** object with your data array\n",
      " - Fill in some station information (e.g. network, station, ..)\n",
      " - Print trace summary and plot the trace\n",
      " - Change the sampling rate to 20 Hz\n",
      " - Change the starttime of the trace to the start time of this session\n",
      " - Print the trace summary and plot the trace again"
     ]
    },
    {
     "cell_type": "code",
     "collapsed": false,
     "input": [],
     "language": "python",
     "metadata": {},
     "outputs": [],
     "prompt_number": 40
    },
    {
     "cell_type": "markdown",
     "metadata": {},
     "source": [
      "#### Trace Exercise 2\n",
      "\n",
      "- Use **`tr.filter(...)`** and apply a lowpass filter with a corner frequency of 1 second.\n",
      "- Display the preview plot, there are a few seconds of zeros that we can cut off.\n",
      "- Use **`tr.trim(...)`** to remove some of the zeros at start and at the end."
     ]
    },
    {
     "cell_type": "code",
     "collapsed": false,
     "input": [],
     "language": "python",
     "metadata": {},
     "outputs": [],
     "prompt_number": 40
    },
    {
     "cell_type": "markdown",
     "metadata": {},
     "source": [
      "#### Trace Exercise 3\n",
      "\n",
      "- Scale up the amplitudes of the trace by a factor of 500\n",
      "- Add standard normal gaussian noise to the trace (use [**`numpy.random.randn()`**](http://docs.scipy.org/doc/numpy/reference/generated/numpy.random.randn.html))\n",
      "- Display the preview plot again"
     ]
    },
    {
     "cell_type": "code",
     "collapsed": false,
     "input": [],
     "language": "python",
     "metadata": {},
     "outputs": [],
     "prompt_number": 40
    },
    {
     "cell_type": "markdown",
     "metadata": {},
     "source": [
      "#### Stream Exercise\n",
      "\n",
      "- Read the example earthquake data into a stream object (**`read()`** without arguments)\n",
      "- Print the stream summary and display the preview plot\n",
      "- Assign the first trace to a new variable and then remove that trace from the original stream (either look up a **`Stream`** builtin method to do this or manually modify the **`Stream`** which is just a list of **`Traces`**)\n",
      "- Print the summary for the single trace and for the stream\n",
      "- Plot the spectrogram for the single trace"
     ]
    },
    {
     "cell_type": "code",
     "collapsed": false,
     "input": [],
     "language": "python",
     "metadata": {},
     "outputs": [],
     "prompt_number": 40
    },
    {
     "cell_type": "markdown",
     "metadata": {},
     "source": [
      "### 3.2 obspy.iris (et. al.) - Retrieving Data from Data Centers / Databases\n",
      "\n",
      "ObsPy has clients for IRIS webservices, NERIES/NERA, NEIC, ArcLink, Earthworm, SeedLink and SeisHub. FDSN webservice support is [currently being developed](https://github.com/obspy/obspy/pull/537) and due for the next major release (fall/winter)."
     ]
    },
    {
     "cell_type": "code",
     "collapsed": false,
     "input": [
      "from obspy import UTCDateTime\n",
      "from obspy.iris import Client\n",
      "\n",
      "client = Client(user_agent=\"IRIS course, Evanston\")\n",
      "t = UTCDateTime(\"2013-08-12T08:30:00+07:00\")\n",
      "st = client.getWaveform(\"TA\", \"L44A\", \"\", \"BH*\", t - 10, t + 35) \n",
      "st.plot()"
     ],
     "language": "python",
     "metadata": {},
     "outputs": [
      {
       "metadata": {},
       "output_type": "display_data",
       "png": "[encoded data removed]",
       "text": [
        "<matplotlib.figure.Figure at 0x34486d0>"
       ]
      }
     ],
     "prompt_number": 41
    },
    {
     "cell_type": "markdown",
     "metadata": {},
     "source": [
      "- Similar interfaces for the other clients\n",
      "- The returned Stream object you already know\n",
      "- For all of your custom processing workflows it does not matter if the data originates from a local file or from a webservice\n",
      "\n",
      "The webservices are not limited to retrieving waveform data. Depending on the client module used, the available data includes:\n",
      "\n",
      "- Event data\n",
      "- Station inventory and response data\n",
      "- Availability information\n",
      "- ..."
     ]
    },
    {
     "cell_type": "markdown",
     "metadata": {},
     "source": [
      "#### obspy.iris - Exercises\n",
      "\n",
      "- Use the obspy.iris client and request some waveform data of your choice (e.g. a different TA station, or a different channel, or a time when an event happened somewhere, e.g. yesterdays M 6.8 off Colombia), plot it, run filters on it, etc."
     ]
    },
    {
     "cell_type": "code",
     "collapsed": false,
     "input": [],
     "language": "python",
     "metadata": {},
     "outputs": [],
     "prompt_number": 41
    },
    {
     "cell_type": "markdown",
     "metadata": {},
     "source": [
      "### 3.3 obspy.signal - Signal Processing Routines"
     ]
    },
    {
     "cell_type": "code",
     "collapsed": false,
     "input": [
      "import obspy.signal\n",
      "print dir(obspy.signal)"
     ],
     "language": "python",
     "metadata": {},
     "outputs": [
      {
       "output_type": "stream",
       "stream": "stdout",
       "text": [
        "['PPSD', '__builtins__', '__doc__', '__file__', '__name__', '__package__', '__path__', 'arPick', 'bandpass', 'bandstop', 'bwith', 'carlSTATrig', 'centroid', 'cfrequency', 'classicSTALTA', 'classicSTALTAPy', 'coincidenceTrigger', 'cornFreq2Paz', 'cosTaper', 'cpxtrace', 'cross_correlation', 'delayedSTALTA', 'detrend', 'domperiod', 'eigval', 'envelope', 'estimateMagnitude', 'filter', 'freqattributes', 'headers', 'highpass', 'hoctavbands', 'instBwith', 'instFreq', 'integerDecimation', 'invsim', 'konnoOhmachiSmoothing', 'konnoohmachismoothing', 'logcep', 'lowpass', 'lowpassFIR', 'normEnvelope', 'pazToFreqResp', 'pkBaer', 'polarization', 'psd', 'recSTALTA', 'recSTALTAPy', 'remezFIR', 'rotate', 'rotate_LQT_ZNE', 'rotate_NE_RT', 'rotate_RT_NE', 'rotate_ZNE_LQT', 'seisSim', 'sonogram', 'specInv', 'spectral_estimation', 'trigger', 'triggerOnset', 'util', 'utlGeoKm', 'utlLonLat', 'xcorr', 'xcorrPickCorrection', 'xcorr_3C', 'zDetect']\n"
       ]
      }
     ],
     "prompt_number": 42
    },
    {
     "cell_type": "markdown",
     "metadata": {},
     "source": [
      "- This list is not complete as it does not show functions available in submodules\n",
      "- Functionality can be browsed through or searched for in the [ObsPy docs](http://docs.obspy.org/packages/obspy.signal.html#module-obspy.signal)\n",
      "- every day functionality is wrapped in convenience functions on [**`Trace`** / **`Stream`**](http://docs.obspy.org/packages/autogen/obspy.core.stream.Stream.html)\n",
      "\n",
      "  - example: Filtering"
     ]
    },
    {
     "cell_type": "code",
     "collapsed": false,
     "input": [
      "tr = read()[0]\n",
      "\n",
      "from obspy.signal.filter import bandpass\n",
      "tr.data = bandpass(tr.data, 1, 10, tr.stats.sampling_rate)"
     ],
     "language": "python",
     "metadata": {},
     "outputs": [],
     "prompt_number": 43
    },
    {
     "cell_type": "code",
     "collapsed": false,
     "input": [
      "tr = read()[0]\n",
      "\n",
      "tr.filter(\"bandpass\", freqmin=1, freqmax=10)"
     ],
     "language": "python",
     "metadata": {},
     "outputs": [],
     "prompt_number": 44
    },
    {
     "cell_type": "markdown",
     "metadata": {},
     "source": [
      "..much better to read in (foreign) code and much less error prone!\n",
      "\n",
      "- example: Instrument correction"
     ]
    },
    {
     "cell_type": "code",
     "collapsed": false,
     "input": [
      "paz_sts2 = {\\\n",
      "    \"poles\": [-0.037004+0.037016j, -0.037004-0.037016j,\n",
      "              -251.33+0j,\n",
      "              -131.04-467.29j, -131.04+467.29j],\n",
      "    \"zeros\": [0j, 0j],\n",
      "    \"gain\": 60077000.0,\n",
      "    \"sensitivity\": 2516778400.0}\n",
      "\n",
      "st = read()\n",
      "st.simulate(paz_remove=paz_sts2)"
     ],
     "language": "python",
     "metadata": {},
     "outputs": [],
     "prompt_number": 45
    },
    {
     "cell_type": "markdown",
     "metadata": {},
     "source": [
      "- the response information can also be retrieved from a webservice, or from a SEED file\n",
      "- instead of the ObsPy internal routine, evalresp can be used (from inside ObsPy)\n",
      "\n",
      "- some other convenience functions that use functionality from obspy.signal in use:"
     ]
    },
    {
     "cell_type": "code",
     "collapsed": false,
     "input": [
      "st = read()\n",
      "st.spectrogram()\n",
      "\n",
      "st.resample(10)\n",
      "st.detrend(\"linear\")\n",
      "st.taper()\n",
      "st.filter(\"bandpass\", freqmin=0.5, freqmax=2.0)\n",
      "\n",
      "st.plot()"
     ],
     "language": "python",
     "metadata": {},
     "outputs": [
      {
       "metadata": {},
       "output_type": "display_data",
       "png": "[encoded data removed]",
       "text": [
        "<matplotlib.figure.Figure at 0x36e1fd0>"
       ]
      },
      {
       "metadata": {},
       "output_type": "display_data",
       "png": "[encoded data removed]",
       "text": [
        "<matplotlib.figure.Figure at 0x34fee50>"
       ]
      },
      {
       "metadata": {},
       "output_type": "display_data",
       "png": "[encoded data removed]",
       "text": [
        "<matplotlib.figure.Figure at 0x3967050>"
       ]
      },
      {
       "metadata": {},
       "output_type": "display_data",
       "png": "[encoded data removed]",
       "text": [
        "<matplotlib.figure.Figure at 0x36cdf50>"
       ]
      }
     ],
     "prompt_number": 46
    },
    {
     "cell_type": "markdown",
     "metadata": {},
     "source": [
      "### 3.4 obspy.xseed - Handling Station Inventory Data\n",
      "\n",
      "- Can currently read/write/convert between SEED/DatalessSEED and XML-SEED\n",
      "- RESP file write support\n",
      "- StationXML support is [currently being developed](https://github.com/obspy/obspy/pull/590) and due for the next major release (fall/winter)."
     ]
    },
    {
     "cell_type": "code",
     "collapsed": false,
     "input": [
      "from obspy.xseed import Parser\n",
      "p = Parser(\"dataless_SEED\")\n",
      "print p\n",
      "p.getCoordinates(\"BW.FURT..EHZ\")\n",
      "p.getPAZ(\"BW.FURT..EHZ\")"
     ],
     "language": "python",
     "metadata": {},
     "outputs": [
      {
       "ename": "IOError",
       "evalue": "",
       "output_type": "pyerr",
       "traceback": [
        "\u001b[1;31m---------------------------------------------------------------------------\u001b[0m\n\u001b[1;31mIOError\u001b[0m                                   Traceback (most recent call last)",
        "\u001b[1;32m<ipython-input-47-06b46d910865>\u001b[0m in \u001b[0;36m<module>\u001b[1;34m()\u001b[0m\n\u001b[0;32m      1\u001b[0m \u001b[1;32mfrom\u001b[0m \u001b[0mobspy\u001b[0m\u001b[1;33m.\u001b[0m\u001b[0mxseed\u001b[0m \u001b[1;32mimport\u001b[0m \u001b[0mParser\u001b[0m\u001b[1;33m\u001b[0m\u001b[0m\n\u001b[1;32m----> 2\u001b[1;33m \u001b[0mp\u001b[0m \u001b[1;33m=\u001b[0m \u001b[0mParser\u001b[0m\u001b[1;33m(\u001b[0m\u001b[1;34m\"dataless_SEED\"\u001b[0m\u001b[1;33m)\u001b[0m\u001b[1;33m\u001b[0m\u001b[0m\n\u001b[0m\u001b[0;32m      3\u001b[0m \u001b[1;32mprint\u001b[0m \u001b[0mp\u001b[0m\u001b[1;33m\u001b[0m\u001b[0m\n\u001b[0;32m      4\u001b[0m \u001b[0mp\u001b[0m\u001b[1;33m.\u001b[0m\u001b[0mgetCoordinates\u001b[0m\u001b[1;33m(\u001b[0m\u001b[1;34m\"BW.FURT..EHZ\"\u001b[0m\u001b[1;33m)\u001b[0m\u001b[1;33m\u001b[0m\u001b[0m\n\u001b[0;32m      5\u001b[0m \u001b[0mp\u001b[0m\u001b[1;33m.\u001b[0m\u001b[0mgetPAZ\u001b[0m\u001b[1;33m(\u001b[0m\u001b[1;34m\"BW.FURT..EHZ\"\u001b[0m\u001b[1;33m)\u001b[0m\u001b[1;33m\u001b[0m\u001b[0m\n",
        "\u001b[1;32m/home/megies/git/obspy/obspy/xseed/parser.pyc\u001b[0m in \u001b[0;36m__init__\u001b[1;34m(self, data, debug, strict, compact)\u001b[0m\n\u001b[0;32m     94\u001b[0m         \u001b[1;31m# if a file name is given, read it directly to the parser object\u001b[0m\u001b[1;33m\u001b[0m\u001b[1;33m\u001b[0m\u001b[0m\n\u001b[0;32m     95\u001b[0m         \u001b[1;32mif\u001b[0m \u001b[0mdata\u001b[0m\u001b[1;33m:\u001b[0m\u001b[1;33m\u001b[0m\u001b[0m\n\u001b[1;32m---> 96\u001b[1;33m             \u001b[0mself\u001b[0m\u001b[1;33m.\u001b[0m\u001b[0mread\u001b[0m\u001b[1;33m(\u001b[0m\u001b[0mdata\u001b[0m\u001b[1;33m)\u001b[0m\u001b[1;33m\u001b[0m\u001b[0m\n\u001b[0m\u001b[0;32m     97\u001b[0m \u001b[1;33m\u001b[0m\u001b[0m\n\u001b[0;32m     98\u001b[0m     \u001b[1;32mdef\u001b[0m \u001b[0m__str__\u001b[0m\u001b[1;33m(\u001b[0m\u001b[0mself\u001b[0m\u001b[1;33m)\u001b[0m\u001b[1;33m:\u001b[0m\u001b[1;33m\u001b[0m\u001b[0m\n",
        "\u001b[1;32m/home/megies/git/obspy/obspy/xseed/parser.pyc\u001b[0m in \u001b[0;36mread\u001b[1;34m(self, data)\u001b[0m\n\u001b[0;32m    173\u001b[0m             \u001b[0mself\u001b[0m\u001b[1;33m.\u001b[0m\u001b[0m_format\u001b[0m \u001b[1;33m=\u001b[0m \u001b[1;34m'XSEED'\u001b[0m\u001b[1;33m\u001b[0m\u001b[0m\n\u001b[0;32m    174\u001b[0m         \u001b[1;32melse\u001b[0m\u001b[1;33m:\u001b[0m\u001b[1;33m\u001b[0m\u001b[0m\n\u001b[1;32m--> 175\u001b[1;33m             \u001b[1;32mraise\u001b[0m \u001b[0mIOError\u001b[0m\u001b[1;33m\u001b[0m\u001b[0m\n\u001b[0m\u001b[0;32m    176\u001b[0m \u001b[1;33m\u001b[0m\u001b[0m\n\u001b[0;32m    177\u001b[0m     \u001b[1;32mdef\u001b[0m \u001b[0mgetXSEED\u001b[0m\u001b[1;33m(\u001b[0m\u001b[0mself\u001b[0m\u001b[1;33m,\u001b[0m \u001b[0mversion\u001b[0m\u001b[1;33m=\u001b[0m\u001b[0mDEFAULT_XSEED_VERSION\u001b[0m\u001b[1;33m,\u001b[0m \u001b[0msplit_stations\u001b[0m\u001b[1;33m=\u001b[0m\u001b[0mFalse\u001b[0m\u001b[1;33m)\u001b[0m\u001b[1;33m:\u001b[0m\u001b[1;33m\u001b[0m\u001b[0m\n",
        "\u001b[1;31mIOError\u001b[0m: "
       ]
      }
     ],
     "prompt_number": 47
    },
    {
     "cell_type": "code",
     "collapsed": false,
     "input": [
      "p.writeXSEED(\"dataless.xml\")\n",
      "p = Parser(\"dataless.xml\")\n",
      "p.writeSEED(\"edit_dataless_SEED\")\n",
      "p.writeRESP(\".\")"
     ],
     "language": "python",
     "metadata": {},
     "outputs": []
    },
    {
     "cell_type": "markdown",
     "metadata": {},
     "source": [
      "Data can be then be corrected for instrument response (and/or simulated to another instrument response) by either..\n",
      "\n",
      " - the ObsPy internal routine based on Poles and Zeros information and overall sensitivity\n",
      " - the wrapped evalresp routine"
     ]
    },
    {
     "cell_type": "markdown",
     "metadata": {},
     "source": [
      "### 3.5 obspy.core.event - Event Handling\n",
      "\n",
      "- Aims to get a unified interface with read and write support independent of the data source, similar to how the **`Stream`** and **`Trace`** classes handle waveform data\n",
      "- Fully supports QuakeML 1.2 and is modelled after it"
     ]
    },
    {
     "cell_type": "code",
     "collapsed": false,
     "input": [
      "from obspy import readEvents\n",
      "\n",
      "url = \"http://service.iris.edu/fdsnws/event/1/query?minmagnitude=8.5\"\n",
      "catalog = readEvents(url)\n",
      "print catalog"
     ],
     "language": "python",
     "metadata": {},
     "outputs": []
    },
    {
     "cell_type": "markdown",
     "metadata": {},
     "source": [
      "- The readEvents() function always returns a **`Catalog`** object, which is\n",
      "a collection of **`Event`** objects."
     ]
    },
    {
     "cell_type": "code",
     "collapsed": false,
     "input": [
      "print type(catalog)\n",
      "print type(catalog[0])"
     ],
     "language": "python",
     "metadata": {},
     "outputs": []
    },
    {
     "cell_type": "code",
     "collapsed": false,
     "input": [
      "event = catalog[0]\n",
      "print event"
     ],
     "language": "python",
     "metadata": {},
     "outputs": []
    },
    {
     "cell_type": "markdown",
     "metadata": {},
     "source": [
      "- Event objects are again collections of other resources."
     ]
    },
    {
     "cell_type": "code",
     "collapsed": false,
     "input": [
      "print type(event.origins[0])\n",
      "print type(event.magnitudes[0])\n",
      "print event.origins[0]"
     ],
     "language": "python",
     "metadata": {},
     "outputs": []
    },
    {
     "cell_type": "markdown",
     "metadata": {},
     "source": [
      "- The Catalog object contains some convenience methods to make\n",
      "working with events easier.\n",
      "- Events can be filtered with various keys."
     ]
    },
    {
     "cell_type": "code",
     "collapsed": false,
     "input": [
      "largest_magnitude_events = catalog.filter(\"magnitude >= 8.8\")\n",
      "print largest_magnitude_events"
     ],
     "language": "python",
     "metadata": {},
     "outputs": []
    },
    {
     "cell_type": "markdown",
     "metadata": {},
     "source": [
      "- There is a basic preview plot using the basemap module."
     ]
    },
    {
     "cell_type": "code",
     "collapsed": false,
     "input": [
      "catalog.plot()"
     ],
     "language": "python",
     "metadata": {},
     "outputs": []
    },
    {
     "cell_type": "markdown",
     "metadata": {},
     "source": [
      "- And they can be written."
     ]
    },
    {
     "cell_type": "code",
     "collapsed": false,
     "input": [
      "catalog.write(\"/tmp/modified_events.xml\", format=\"QUAKEML\")\n",
      "!ls -l /tmp/modified_events.xml"
     ],
     "language": "python",
     "metadata": {},
     "outputs": []
    },
    {
     "cell_type": "code",
     "collapsed": false,
     "input": [
      "!head /tmp/modified_events.xml\n",
      "!echo \"...\"\n",
      "!tail /tmp/modified_events.xml"
     ],
     "language": "python",
     "metadata": {},
     "outputs": []
    },
    {
     "cell_type": "markdown",
     "metadata": {},
     "source": [
      "#### obspy.core.event - Exercise\n",
      "\n",
      "- Feed one of the example query URLS at http://service.iris.edu/fdsnws/event/1/ to the **`readEvents()`** method \n",
      "- Print the resulting Catalog object and filter it, so it only contains events with a magnitude larger than a certain magnitude.\n",
      "- Now assume you did a new magnitude estimation and want to add it to one event. Create a new magnitude object (import it from `obspy.core.event`), fill it with some values and append it to the magnitude list of the one of the events.\n",
      "- Save the modified Catalog as a QuakeML object locally."
     ]
    },
    {
     "cell_type": "code",
     "collapsed": false,
     "input": [],
     "language": "python",
     "metadata": {},
     "outputs": []
    }
   ],
   "metadata": {}
  }
 ]
}