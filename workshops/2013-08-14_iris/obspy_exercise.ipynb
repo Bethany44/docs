{
 "metadata": {
  "name": "ObsPy Practical - emptied"
 },
 "nbformat": 3,
 "nbformat_minor": 0,
 "worksheets": [
  {
   "cells": [
    {
     "cell_type": "markdown",
     "metadata": {},
     "source": "# Exercise -- The 2008 Mt. Carmel, Illinois, Earthquake and Aftershock Series\n\nIntroduction from \n[\"The April 18, 2008 Illinois Earthquake: An ANSS Monitoring Success\" by Robert B. Herrmann, Mitch Withers, and Harley Benz, SRL 2008](http://srl.geoscienceworld.org/content/79/6/830.extract):\n\n*\"The largest-magnitude earthquake in the past 20 years struck near **Mt. Carmel in southeastern Illinois** on Friday morning, 18 April 2008 at 09:36:59 UTC (04:37 CDT). **The Mw 5.2 earthquake was felt over an area that spanned Chicago and Atlanta**, with about 40,000 reports submitted to the U.S. Geological Survey (USGS) \u201cDid You Feel It?\u201d system. There were at least six felt aftershocks greater than magnitude 3 and 20 aftershocks with magnitudes greater than 2 located by regional and national seismic networks. **Portable instrumentation was deployed** by researchers of the University of Memphis and Indiana University (the first portable station was installed at about 23:00 UTC on 18 April). The portable seismographs were deployed both to capture near-source, high-frequency ground motions for significant aftershocks and to better understand structure along the active fault. [...]\"*\n\n<img src=\"http://earthquake.usgs.gov/images/globes/40_-90.jpg\" alt=\"World map\" style=\"width: 250px;\"/>\n<img src=\"http://earthquake.usgs.gov/earthquakes/dyfi/events/us/2008qza6/us/us2008qza6_ciim_zoomout.jpg\" alt=\"Felt report map\" style=\"width: 700px;\"/>\n\nWeb page hits at USGS/NEIC during 24 hours after the earthquake:\n\n - peak rate: **3,892 hits/second**\n - **68 million hits** in the 24 hours after the earthquake\n\n<img src=\"https://www.geophysik.uni-muenchen.de/~megies/.iris/.mtcarmel_figure1.jpg\" alt=\"USGS/NEIC web page hits\" style=\"width: 500px;\"/>\n\nSome links:\n\n - http://earthquake.usgs.gov/earthquakes/dyfi/events/us/2008qza6/us/index.html\n - http://earthquake.usgs.gov/earthquakes/eqinthenews/2008/us2008qza6/#summary\n - http://srl.geoscienceworld.org/content/79/6/830.extract\n - http://srl.geoscienceworld.org/content/82/5/735.short"
    },
    {
     "cell_type": "markdown",
     "metadata": {},
     "source": "## 1. Download and visualize main shock\n\nLook up a station close to the event at [IRIS](https://www.iris.edu/SeismiQuery/station.htm). Download waveform data for the mainshock using [`obspy.iris`](https://docs.obspy.org/packages/obspy.iris.html) (if you get an error, maybe try a different station and ask for help). Make the preview plot using obspy. Visualize a Spectrogram (if you got time, you can play around with the different parameters for the spectrogram). Apply a filter and plot the data again."
    },
    {
     "cell_type": "code",
     "collapsed": false,
     "input": "",
     "language": "python",
     "metadata": {},
     "outputs": []
    },
    {
     "cell_type": "markdown",
     "metadata": {},
     "source": "Define a function `plot_data(t)` that fetches waveform data for this station and that shows a preview plot of 20 seconds of data starting at a given time. It should take a UTCDateTime object as only argument."
    },
    {
     "cell_type": "code",
     "collapsed": false,
     "input": "",
     "language": "python",
     "metadata": {},
     "outputs": []
    },
    {
     "cell_type": "markdown",
     "metadata": {},
     "source": "Test your function by calling it for the time of the main shock"
    },
    {
     "cell_type": "code",
     "collapsed": false,
     "input": "",
     "language": "python",
     "metadata": {},
     "outputs": []
    },
    {
     "cell_type": "markdown",
     "metadata": {},
     "source": "## 2. Visualize aftershock and estimate magnitude\n\nRead file \"/Volumes/USArray/week2/Wednesday/obspy/data/mtcarmel.mseed\". It contains data of stations from the aftershock network that was set up shortly after the main shock (compare [network map]()). Print the stream information and check it out (what channels? sampling rates? etc.). Have a look at the stations in the [station map](https://www.iris.edu/gmap/Z3?timewindow=2008-2008). Make a preview plot. "
    },
    {
     "cell_type": "code",
     "collapsed": false,
     "input": "",
     "language": "python",
     "metadata": {},
     "outputs": []
    },
    {
     "cell_type": "markdown",
     "metadata": {},
     "source": "The strongest aftershock you see in the given recordings is at `2008-04-21T05:38:30`. Trim the data to the event and make a preview plot and a spectrogram plot of it."
    },
    {
     "cell_type": "code",
     "collapsed": false,
     "input": "",
     "language": "python",
     "metadata": {},
     "outputs": []
    },
    {
     "cell_type": "markdown",
     "metadata": {},
     "source": "Make an approximation of the magnitude. Use the function provided below: After you execute the code box with the function you can call it anywhere in your code boxes. Determine the raw data's peak value of the event at one of the stations (e.g. using Python's `max` function or a numpy method on the data array) and call the provided function for that value."
    },
    {
     "cell_type": "code",
     "collapsed": false,
     "input": "",
     "language": "python",
     "metadata": {},
     "outputs": []
    },
    {
     "cell_type": "code",
     "collapsed": false,
     "input": "from obspy.signal import estimateMagnitude\n\ndef mag_approx(peak_value):\n    \"\"\"\n    Give peak value of raw data for a very crude and simple magnitude estimation.\n\n    For simplicity, this is done assuming hypocentral location, peak frequency, etc.\n    To keep it simple for now the response information is entered manually here\n    (it is the same for all instruments used here).\n    \"\"\"\n    poles = [-1.48600E-01  + 1.48600E-01j,\n             -1.48600E-01  - 1.48600E-01j,\n             -4.14690E+02  + 0.00000E+00j,\n             -9.99027E+02  + 9.99027E+02j,\n             -9.99027E+02  - 9.99027E+02j]\n    zeros = [0.0 + 0.0j,\n             0.0 + 0.0j,\n             1.1875E+03 + 0.0j]\n    norm_factor = 7.49898E+08\n    sensitivity = 6.97095E+05\n    paz = {'poles': poles, 'zeros': zeros, 'gain': norm_factor,\n           'sensitivity': sensitivity}\n    hypo_dist = 20\n    peak_freq = 5.0\n    ml = estimateMagnitude(paz, peak_value, 0.5 / peak_freq, hypo_dist)\n    return ml",
     "language": "python",
     "metadata": {},
     "outputs": []
    },
    {
     "cell_type": "markdown",
     "metadata": {},
     "source": "Do the magnitude approximation in a for-loop for all stations in the Stream. Calculate a network magnitude as the average of all three stations."
    },
    {
     "cell_type": "code",
     "collapsed": false,
     "input": "",
     "language": "python",
     "metadata": {},
     "outputs": []
    },
    {
     "cell_type": "markdown",
     "metadata": {},
     "source": "Define a function `netmag(st)` that returns a network magnitude approximation. It should take a Stream object (which is assumed to be trimmed to an event) as only argument. Use the provided `mag_approx` function and calculate the mean of all traces in the stream internally."
    },
    {
     "cell_type": "code",
     "collapsed": false,
     "input": "",
     "language": "python",
     "metadata": {},
     "outputs": []
    },
    {
     "cell_type": "markdown",
     "metadata": {},
     "source": "Test your function on the cut out Stream object of the large aftershock from before."
    },
    {
     "cell_type": "code",
     "collapsed": false,
     "input": "",
     "language": "python",
     "metadata": {},
     "outputs": []
    },
    {
     "cell_type": "markdown",
     "metadata": {},
     "source": "###3. Detect aftershocks using triggering routines\n\nRead the 3-station data from file \"/Volumes/USArray/week2/Wednesday/obspy/data/mtcarmel.mseed\" again. Apply a bandpass filter (need help? see [ObsPy docs](https://docs.obspy.org/packages/autogen/obspy.core.stream.Stream.filter.html), filter type \"bandpass\" takes arguments `freqmin` and `freqmax`). Adjust it to the dominant event frequency range you have seen in the aftershock spectrogram above. Run a recursive STA/LTA trigger on the filtered data (see [ObsPy docs](https://docs.obspy.org/packages/autogen/obspy.core.stream.Stream.trigger.html)). The length of the `sta` window should be a bit longer than an arriving seismic phase, the `lta` window can be around ten to twenty times as long.\n\nMake a preview plot of the Stream object, now showing the characteristic function of the triggering. High trigger values indicate transient signals (of the frequency range of interest) that might be an event (or just a local noise burst on that station..).\n"
    },
    {
     "cell_type": "code",
     "collapsed": false,
     "input": "",
     "language": "python",
     "metadata": {},
     "outputs": []
    },
    {
     "cell_type": "markdown",
     "metadata": {},
     "source": "We could now manually compare trigger values on the different stations to find small aftershocks, termed a network coincidence trigger. However, there is a convenience function in ObsPy's signal toolbox to do just that in only a few lines of code.\n\nRead the data again and apply a bandpass from 2 to 10 Hz. Use the `coincidenceTrigger` function that returns a list of possible events (see the [ObsPy Tutorial](https://docs.obspy.org/tutorial/code_snippets/trigger_tutorial.html#network-coincidence-trigger-example) for an example of a recursive STA/LTA network coincidence trigger). Print the length of the list and adjust the trigger-on threshold so that you get around 5 suspected events.\n\nPrint the first trigger in the list to show information on the suspected event."
    },
    {
     "cell_type": "code",
     "collapsed": false,
     "input": "",
     "language": "python",
     "metadata": {},
     "outputs": []
    },
    {
     "cell_type": "markdown",
     "metadata": {},
     "source": "Go over the list of triggers in a for-loop. For each trigger/suspected event:\n\n - print the time of the trigger\n - read the waveform data, use [`starttime` and `endtime` arguments for `read()`](https://docs.obspy.org/packages/autogen/obspy.core.stream.read.html) to trim to the data to the suspected event right during reading (avoiding to read the whole file again and again)\n - calculate and print the network magnitude using the `netmag(st)` function from earlier\n - make a preview plot\n\nIf you're curious you can compare the crude magnitude estimates with the [table of aftershocks](http://www.seismosoc.org/publications/srl/SRL_82/srl_82-5_hamburger_et_al-esupp/Table_S2.txt) provided by the scientists that analyzed the aftershock sequence. The paper with details can be found here: [\"Aftershocks of the 2008 Mt. Carmel, Illinois, Earthquake: Evidence for Conjugate Faulting near the Termination of the Wabash Valley Fault System\" by M. W. Hamburger, K. Shoemaker, S. Horton, H. DeShon, M. Withers, G. L. Pavlis and E. Sherrill, SRL 2011](http://srl.geoscienceworld.org/content/82/5/735.short)."
    },
    {
     "cell_type": "code",
     "collapsed": false,
     "input": "",
     "language": "python",
     "metadata": {},
     "outputs": []
    },
    {
     "cell_type": "markdown",
     "metadata": {},
     "source": "## 4. Cross correlation pick alignment\n\nA poor undergrad student picked his/her way through the aftershock sequence. For a high-precision relative location run (e.g. double difference, master-event relocation) you want to have more precise, cross correlation aligned phase picks.\n\nThe approach by [Deichmann and Garcia-Fernandez (1992, GJI)](https://onlinelibrary.wiley.com/doi/10.1111/j.1365-246X.1992.tb02088.x/abstract;jsessionid=F73CF9485C0432A3E14EDDDD0C73E058.d03t02) is implemented in the function [**`xcorrPickCorrection`**](https://docs.obspy.org/packages/autogen/obspy.signal.cross_correlation.xcorrPickCorrection.html) in `obspy.signal.cross_correlation`. Follow the [example in the ObsPy Tutorial](https://docs.obspy.org/tutorial/code_snippets/xcorr_pick_correction.html). Get time corrections for the event picks given in `pick_times` relative to the event pick `reference_pick`.\n\nUse the data in file \"/Volumes/USArray/week2/Wednesday/obspy/data/mtcarmel_100hz.mseed\". Before applying the correction resample to 200 Hz (the parabola fitting works better with the finer time resolution) and optionally bandpass to a relatively narrow frequency range."
    },
    {
     "cell_type": "code",
     "collapsed": false,
     "input": "reference_pick = \"2008-04-19T12:46:45.96\"\npick_times = [\"2008-04-19T13:08:59.19\",\n              \"2008-04-19T16:55:19.65\",\n              \"2008-04-19T19:03:38.72\",\n              \"2008-04-19T19:28:53.54\"]",
     "language": "python",
     "metadata": {},
     "outputs": []
    },
    {
     "cell_type": "code",
     "collapsed": false,
     "input": "",
     "language": "python",
     "metadata": {},
     "outputs": []
    }
   ],
   "metadata": {}
  }
 ]
}