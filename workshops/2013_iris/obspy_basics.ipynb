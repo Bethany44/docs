{
 "metadata": {
  "name": "ObsPy Introduction"
 },
 "nbformat": 3,
 "nbformat_minor": 0,
 "worksheets": [
  {
   "cells": [
    {
     "cell_type": "markdown",
     "metadata": {},
     "source": "# Introduction to ObsPy Basics\n\n 1. IPython Notebook\n 2. Python in a Nutshell\n 3. ObsPy Basics"
    },
    {
     "cell_type": "markdown",
     "metadata": {},
     "source": "## 1. IPython Notebook\n\nWhat you see here is the IPython HTML Notebook. It is similar to the workspaces offered by Mathematica and others. You can freely mix text, images, formulas, and sections of Python code. To execute any code block, just click in it and press **Ctrl + Return**. You can repeat this as many times as you like. If you make changes, please also remember to save the notebook on occasion (Button on the top left). The version on your computer **might not autosave** and there is no undo for deleting cells (there is Ctrl+Z undo inside cells).\n\nThings to know:\n\n - get help with ...?"
    },
    {
     "cell_type": "code",
     "collapsed": false,
     "input": "max?",
     "language": "python",
     "metadata": {},
     "outputs": []
    },
    {
     "cell_type": "code",
     "collapsed": false,
     "input": "from math import log\nlog?",
     "language": "python",
     "metadata": {},
     "outputs": []
    },
    {
     "cell_type": "markdown",
     "metadata": {},
     "source": " - get source code with ...?? (sometimes does not work for Python builtins realized in the C-layer)"
    },
    {
     "cell_type": "code",
     "collapsed": false,
     "input": "from matplotlib.pyplot import plot\nplot??",
     "language": "python",
     "metadata": {},
     "outputs": []
    },
    {
     "cell_type": "markdown",
     "metadata": {},
     "source": "- tab completion (on already imported) modules/functions\n\n - shows call syntax\n - shows docstring help\n - shows available functions in a module / methods defined on a object"
    },
    {
     "cell_type": "code",
     "collapsed": false,
     "input": "import math\n# execute cell and then try math.<Tab>",
     "language": "python",
     "metadata": {},
     "outputs": []
    },
    {
     "cell_type": "code",
     "collapsed": false,
     "input": "from numpy import arange\nx = arange(10)\n# try x.<Tab>\n# try x.argmax(<Tab>  or hit <Tab> multiple times, to dock the help in a new frame at the bottom\nx.argmax(",
     "language": "python",
     "metadata": {},
     "outputs": []
    },
    {
     "cell_type": "markdown",
     "metadata": {},
     "source": " - execution sequence matters!\n\n   - all cells share one global namespace\n   - execution order indicated by \"**`In [xx]`:**\""
    },
    {
     "cell_type": "code",
     "collapsed": false,
     "input": "my_variable = 10",
     "language": "python",
     "metadata": {},
     "outputs": []
    },
    {
     "cell_type": "code",
     "collapsed": false,
     "input": "print my_variable",
     "language": "python",
     "metadata": {},
     "outputs": []
    },
    {
     "cell_type": "code",
     "collapsed": false,
     "input": "my_variable = 5",
     "language": "python",
     "metadata": {},
     "outputs": []
    },
    {
     "cell_type": "markdown",
     "metadata": {},
     "source": "- longish output can be collapsed by clicking left of it\n  - one click: scrollable box\n- double-click: collapse output"
    },
    {
     "cell_type": "code",
     "collapsed": false,
     "input": "for i in xrange(100):\n    print i",
     "language": "python",
     "metadata": {},
     "outputs": []
    },
    {
     "cell_type": "markdown",
     "metadata": {},
     "source": "### 2. Python in nutshell\n\nVery quick overview for people with knowledge in other programming languages."
    },
    {
     "cell_type": "markdown",
     "metadata": {},
     "source": "#### 2.1. Variables\n\nVariables are assigned with the equal sign - no need to specify the type (dynamically typed language)."
    },
    {
     "cell_type": "code",
     "collapsed": false,
     "input": "a = \"a\"\nb = 1\nc = 1.3\nd = True\ne = False\n\nprint type(a)\nprint type(b)\nprint type(c)\nprint type(d), type(e)",
     "language": "python",
     "metadata": {},
     "outputs": []
    },
    {
     "cell_type": "markdown",
     "metadata": {},
     "source": "#### 2.2. Container types\n\nThe most used container types are lists and dictionaries.\n\nLists are an ordered collection of objects. Everything in Python is an object so it can contain numbers, strings, other lists, functions, ...\n\nThey are created with squared brackets."
    },
    {
     "cell_type": "code",
     "collapsed": false,
     "input": "# Create with square brackets.\nsome_list = [1, \"a\", [1, 2], True]\n# Add a new elements with the append() method.\nsome_list.append(False)\nprint some_list\nprint some_list[0]\n\n# Python uses zero-based indexing. Using a negative index will cause Python to add\n# the length of the list to the index. Thus one can access elements at the back.\nprint some_list[0], some_list[-1]",
     "language": "python",
     "metadata": {},
     "outputs": []
    },
    {
     "cell_type": "markdown",
     "metadata": {},
     "source": "Dictionaries store arbitrary key, value pairs. The difference to a list is that one does not use an index to refer to a certain element in it but rather a key. In other languages this is also known as a hashmap or an associative array."
    },
    {
     "cell_type": "code",
     "collapsed": false,
     "input": "some_dict = {\"a\": 1, \"b\": 2}\nsome_dict[\"c\"] = 3\nprint some_dict\nprint some_dict[\"b\"]",
     "language": "python",
     "metadata": {},
     "outputs": []
    },
    {
     "cell_type": "markdown",
     "metadata": {},
     "source": "#### 2.3 Control flow\n\nIntendation groups code blocks! No need for brackets."
    },
    {
     "cell_type": "code",
     "collapsed": false,
     "input": "a = 1\nb = 2\n\nif a == 1 and b != 1:\n    print \"a is 1 and b not\"\nelif b == 1:\n    print \"b is not 1\"\nelse:\n    print \"Something else happened\"",
     "language": "python",
     "metadata": {},
     "outputs": []
    },
    {
     "cell_type": "code",
     "collapsed": false,
     "input": "# Python support \"for each\" loops. One essentially\n# iterates over every item in a container.\nsome_list = [\"a\", \"b\", \"c\"]\nfor i in some_list:\n    print i\n    \n# To loop a certain amount of time, use the xrange() function.\nsum = 0\nfor i in xrange(10):\n    sum += i\nprint sum",
     "language": "python",
     "metadata": {},
     "outputs": []
    },
    {
     "cell_type": "markdown",
     "metadata": {},
     "source": "## 3. ObsPy\n\nGoal: Familiarize Yourself With ObsPy\u2019s Main\nObjects and Functions\n\n### 3.1 obspy.core - Central module that is the glue between all other ObsPy modules. \n\n- Provides all important base classes and functions\n  * The **`UTCDateTime`** class. Used to deal with time information.\n  * The **`Trace`** class. Deals with a single chunk of contiguous waveform data.\n  * The **`Stream`** class. A collection of traces. Eases organization and multi-component/bulk processing.\n  * The **`Event`** class. Modelled after QuakeML.\n  * The **`Catalog`** class. A collection of events. Modelled after QuakeML.\n  * The **`read()`** function. Reads all kinds of waveform file formats. Outputs a **`Stream`** object\n  * The **`readEvents()`** function. Reads QuakeML files. Outputs a **`Catalog`** object\n\n- Unified interface and functionality for handling waveform data in form of the **`Stream`** and **`Trace`** classes\n- All absolute time values within ObsPy are consistently handled with the **`UTCDateTime`** class\n- provides **`read()`** and **`readEvents()`** functions to read local data via the appropriate submodule (filetype autodiscovery)\n- Event data is handled with the **`Event`** class\n- Generally useful utility classes, general utility methods (e.g. for geodetic calculations)\n- Management of submodule/plugin discovery and binding, a global test script for running all submodule tests, ...\n\n#### Handling Time - The **`UTCDateTime`** Class\n\n - All absolute time values are consistently handled with this class\n - No need to worry about timezones (can be specified at initialization, internally)\n - Based on a high precision POSIX timestamp and not the Python datetime class because precision was an issue\n\n#### Features of **`UTCDateTime`**\n\n - Initialization"
    },
    {
     "cell_type": "code",
     "collapsed": false,
     "input": "from obspy import UTCDateTime\nprint UTCDateTime(\"2012-09-07T12:15:00\")  # mostly time strings defined by ISO standard\nprint UTCDateTime(2012, 9, 7, 12, 15, 0)\nprint UTCDateTime(1347020100.0)\nUTCDateTime?",
     "language": "python",
     "metadata": {},
     "outputs": []
    },
    {
     "cell_type": "markdown",
     "metadata": {},
     "source": " - Time zone support"
    },
    {
     "cell_type": "code",
     "collapsed": false,
     "input": "print UTCDateTime(\"2012-09-07T12:15:00+02:00\")",
     "language": "python",
     "metadata": {},
     "outputs": []
    },
    {
     "cell_type": "markdown",
     "metadata": {},
     "source": " - Attribute access"
    },
    {
     "cell_type": "code",
     "collapsed": false,
     "input": "time = UTCDateTime(\"2012-09-07T12:15:00\")\nprint time.year\nprint time.julday\nprint time.timestamp\nprint time.weekday\n# try time.<Tab>",
     "language": "python",
     "metadata": {},
     "outputs": []
    },
    {
     "cell_type": "markdown",
     "metadata": {},
     "source": " - Handling time differences\n   - \"**`+`**\" defined to add seconds to an **`UTCDateTime`** object\n   - \"**`-`**\" defined to get time difference of two **`UTCDateTime`** objects"
    },
    {
     "cell_type": "code",
     "collapsed": false,
     "input": "time = UTCDateTime(\"2012-09-07T12:15:00\")\nprint time",
     "language": "python",
     "metadata": {},
     "outputs": []
    },
    {
     "cell_type": "code",
     "collapsed": false,
     "input": "print time + 3600",
     "language": "python",
     "metadata": {},
     "outputs": []
    },
    {
     "cell_type": "code",
     "collapsed": false,
     "input": "time2 = UTCDateTime(2012, 1, 1)\nprint time - time2",
     "language": "python",
     "metadata": {},
     "outputs": []
    },
    {
     "cell_type": "markdown",
     "metadata": {},
     "source": "#### **`UTCDateTime`** - Exercises"
    },
    {
     "cell_type": "markdown",
     "metadata": {},
     "source": " - Calculate the number of days passed since your birth.\n   - The current date and time can be obtained with **`UTCDateTime()`**\n   - Optional: Include the correct time zone"
    },
    {
     "cell_type": "code",
     "collapsed": false,
     "input": "",
     "language": "python",
     "metadata": {},
     "outputs": []
    },
    {
     "cell_type": "markdown",
     "metadata": {},
     "source": " - Get a list of 10 UTCDateTime objects, starting yesterday at 10:00\nwith a spacing of 90 minutes."
    },
    {
     "cell_type": "code",
     "collapsed": false,
     "input": "",
     "language": "python",
     "metadata": {},
     "outputs": []
    },
    {
     "cell_type": "markdown",
     "metadata": {},
     "source": "#### Handling Waveform Data"
    },
    {
     "cell_type": "code",
     "collapsed": false,
     "input": "from obspy import read\nst = read(\"https://examples.obspy.org/BW.BGLD..EH.D.2010.037\", format=\"MSEED\")\nprint st",
     "language": "python",
     "metadata": {},
     "outputs": []
    },
    {
     "cell_type": "markdown",
     "metadata": {},
     "source": "- Automatic file format detection, no need to worry about file formats\n\n  - currently supported: **mseed, sac, segy, seg2, gse2, seisan, sh, datamark, css, wav**\n\n- Always results in a **`Stream`** object."
    },
    {
     "cell_type": "markdown",
     "metadata": {},
     "source": "#### The Stream Object\n\n - A Stream object is a collection of Trace objects"
    },
    {
     "cell_type": "code",
     "collapsed": false,
     "input": "from obspy import read\nst = read()\nprint type(st)",
     "language": "python",
     "metadata": {},
     "outputs": []
    },
    {
     "cell_type": "code",
     "collapsed": false,
     "input": "print st",
     "language": "python",
     "metadata": {},
     "outputs": []
    },
    {
     "cell_type": "code",
     "collapsed": false,
     "input": "print st.traces",
     "language": "python",
     "metadata": {},
     "outputs": []
    },
    {
     "cell_type": "code",
     "collapsed": false,
     "input": "print st[0]",
     "language": "python",
     "metadata": {},
     "outputs": []
    },
    {
     "cell_type": "markdown",
     "metadata": {},
     "source": " - convenient (and nicely readable) looping over traces"
    },
    {
     "cell_type": "code",
     "collapsed": false,
     "input": "for tr in st:\n    print tr.id",
     "language": "python",
     "metadata": {},
     "outputs": []
    },
    {
     "cell_type": "markdown",
     "metadata": {},
     "source": "#### The Trace Object\n\n- A Trace object is a single, continuous waveform data block\n- It furthermore contains a limited amount of metadata in a dictionary-like object (as **`Trace.stats`**)"
    },
    {
     "cell_type": "code",
     "collapsed": false,
     "input": "st = read()\ntr = st[0]\nprint tr",
     "language": "python",
     "metadata": {},
     "outputs": []
    },
    {
     "cell_type": "code",
     "collapsed": false,
     "input": "print tr.stats",
     "language": "python",
     "metadata": {},
     "outputs": []
    },
    {
     "cell_type": "markdown",
     "metadata": {},
     "source": "- For custom applications it is often necessary to directly manipulate the metadata of a Trace.\n- The state of the Trace will **stay consistent**, as all values are derived from the starttime, the data and the sampling rate and are **updated automatically**"
    },
    {
     "cell_type": "code",
     "collapsed": true,
     "input": "print tr.stats.delta, \"|\", tr.stats.endtime",
     "language": "python",
     "metadata": {},
     "outputs": []
    },
    {
     "cell_type": "code",
     "collapsed": true,
     "input": "tr.stats.sampling_rate = 5.0\nprint tr.stats.delta, \"|\", tr.stats.endtime",
     "language": "python",
     "metadata": {},
     "outputs": []
    },
    {
     "cell_type": "code",
     "collapsed": true,
     "input": "print tr.stats.npts",
     "language": "python",
     "metadata": {},
     "outputs": []
    },
    {
     "cell_type": "code",
     "collapsed": true,
     "input": "tr.data = tr.data[:100]\nprint tr.stats.npts, \"|\", tr.stats.endtime",
     "language": "python",
     "metadata": {},
     "outputs": []
    },
    {
     "cell_type": "markdown",
     "metadata": {},
     "source": "- Working with them is easy, with a lot of attached methods."
    },
    {
     "cell_type": "code",
     "collapsed": false,
     "input": "print tr\ntr.resample(sampling_rate=10.0)\nprint tr",
     "language": "python",
     "metadata": {},
     "outputs": []
    },
    {
     "cell_type": "code",
     "collapsed": false,
     "input": "print tr\ntr.trim(tr.stats.starttime + 2, tr.stats.endtime - 2)\nprint tr",
     "language": "python",
     "metadata": {},
     "outputs": []
    },
    {
     "cell_type": "code",
     "collapsed": false,
     "input": "tr.detrend(\"linear\")\ntr.filter(\"highpass\", freq=2.0)\n# try tr.<Tab> !",
     "language": "python",
     "metadata": {},
     "outputs": []
    },
    {
     "cell_type": "markdown",
     "metadata": {},
     "source": "- Raw data available as a [**`numpy.ndarray`**](https://docs.scipy.org/doc/numpy/reference/generated/numpy.ndarray.html) (as **`Trace.data`**)"
    },
    {
     "cell_type": "code",
     "collapsed": false,
     "input": "print tr.data[:20]",
     "language": "python",
     "metadata": {},
     "outputs": []
    },
    {
     "cell_type": "markdown",
     "metadata": {},
     "source": "- Data can be directly modified e.g. ..\n\n..by doing arithmetic operations (fast, handled in C by NumPy!)"
    },
    {
     "cell_type": "code",
     "collapsed": false,
     "input": "print tr.data ** 2 + 0.5",
     "language": "python",
     "metadata": {},
     "outputs": []
    },
    {
     "cell_type": "markdown",
     "metadata": {},
     "source": "..by using [**`numpy.ndarray`** builtin methods](https://docs.scipy.org/doc/numpy/reference/generated/numpy.ndarray.html) (also done in C by NumPy)"
    },
    {
     "cell_type": "code",
     "collapsed": false,
     "input": "print tr.data.max()\nprint tr.data.mean()\nprint tr.data.ptp()\n# try tr.data.<Tab> for a list of numpy methods defined on ndarray",
     "language": "python",
     "metadata": {},
     "outputs": []
    },
    {
     "cell_type": "markdown",
     "metadata": {},
     "source": "..by using **`numpy`** functions (also done in C by NumPy)"
    },
    {
     "cell_type": "code",
     "collapsed": false,
     "input": "import numpy as np\nprint np.abs(tr.data)\n# you can try np.<Tab> but there is a lot in there\n# try np.a<Tab>",
     "language": "python",
     "metadata": {},
     "outputs": []
    },
    {
     "cell_type": "markdown",
     "metadata": {},
     "source": "..by feeding pointers to existing C/Fortran routines from inside Python!\n\nThis is done internally in several places, e.g. for cross correlations, beamforming or in third-party filetype libraries e.g. libmseed."
    },
    {
     "cell_type": "markdown",
     "metadata": {},
     "source": "#### Builtin methods defined on **`Stream`** / **`Trace`**\n\n- Most methods that work on a Trace object also work on a Stream object. They are simply executed for every trace.\n - **`st.filter()`** - Filter all attached traces.\n - **`st.trim()`** - Cut all traces.\n - **`st.resample()`** / **`st.decimate()`** - Change the sampling rate.\n - **`st.trigger()`** - Run triggering algorithms.\n - **`st.plot()`** / **`st.spectrogram()`** - Visualize the data.\n - **`st.simulate()`**, **`st.merge()`**, **`st.normalize()`**, **`st.detrend()`**, ...\n- A **`Stream`** object can also be exported to many formats making ObsPy a good tool for converting between different file formats."
    },
    {
     "cell_type": "code",
     "collapsed": false,
     "input": "st = read(\"https://examples.obspy.org/BW.BGLD..EH.D.2010.037\")\nst.write(\"/tmp/output_file.sac\", format=\"SAC\")\n!ls -l /tmp/output_file*.sac",
     "language": "python",
     "metadata": {},
     "outputs": []
    },
    {
     "cell_type": "markdown",
     "metadata": {},
     "source": "#### Trace Exercise 1\n - Make an **`numpy.ndarray`** with zeros and (e.g. use **`numpy.zeros()`**) and put an ideal pulse somewhere in it\n - initialize a **`Trace`** object with your data array\n - Fill in some station information (e.g. network, station, ..)\n - Print trace summary and plot the trace\n - Change the sampling rate to 20 Hz\n - Change the starttime of the trace to the start time of this session\n - Print the trace summary and plot the trace again"
    },
    {
     "cell_type": "code",
     "collapsed": false,
     "input": "",
     "language": "python",
     "metadata": {},
     "outputs": []
    },
    {
     "cell_type": "markdown",
     "metadata": {},
     "source": "#### Trace Exercise 2\n\n- Use **`tr.filter(...)`** and apply a lowpass filter with a corner frequency of 1 second.\n- Display the preview plot, there are a few seconds of zeros that we can cut off.\n- Use **`tr.trim(...)`** to remove some of the zeros at start and at the end."
    },
    {
     "cell_type": "code",
     "collapsed": false,
     "input": "",
     "language": "python",
     "metadata": {},
     "outputs": []
    },
    {
     "cell_type": "markdown",
     "metadata": {},
     "source": "#### Trace Exercise 3\n\n- Scale up the amplitudes of the trace by a factor of 500\n- Add standard normal gaussian noise to the trace (use [**`numpy.random.randn()`**](https://docs.scipy.org/doc/numpy/reference/generated/numpy.random.randn.html))\n- Display the preview plot again"
    },
    {
     "cell_type": "code",
     "collapsed": false,
     "input": "",
     "language": "python",
     "metadata": {},
     "outputs": []
    },
    {
     "cell_type": "markdown",
     "metadata": {},
     "source": "#### Stream Exercise\n\n- Read the example earthquake data into a stream object (**`read()`** without arguments)\n- Print the stream summary and display the preview plot\n- Assign the first trace to a new variable and then remove that trace from the original stream (either look up a **`Stream`** builtin method to do this or manually modify the **`Stream`** which is just a list of **`Traces`**)\n- Print the summary for the single trace and for the stream\n- Plot the spectrogram for the single trace"
    },
    {
     "cell_type": "code",
     "collapsed": false,
     "input": "",
     "language": "python",
     "metadata": {},
     "outputs": []
    },
    {
     "cell_type": "markdown",
     "metadata": {},
     "source": "### 3.2 obspy.iris (et. al.) - Retrieving Data from Data Centers / Databases\n\nObsPy has clients for IRIS webservices, NERIES/NERA, NEIC, ArcLink, Earthworm, SeedLink and SeisHub. FDSN webservice support is [currently being developed](https://github.com/obspy/obspy/pull/537) and due for the next major release (fall/winter)."
    },
    {
     "cell_type": "code",
     "collapsed": false,
     "input": "from obspy import UTCDateTime\nfrom obspy.iris import Client\n\nclient = Client(user_agent=\"IRIS course, Evanston\")\nt = UTCDateTime(\"2013-08-12T08:30:00+07:00\")\nst = client.getWaveform(\"TA\", \"L44A\", \"\", \"BH*\", t - 10, t + 35) \nst.plot()",
     "language": "python",
     "metadata": {},
     "outputs": []
    },
    {
     "cell_type": "markdown",
     "metadata": {},
     "source": "- Similar interfaces for the other clients\n- The returned Stream object you already know\n- For all of your custom processing workflows it does not matter if the data originates from a local file or from a webservice\n\nThe webservices are not limited to retrieving waveform data. Depending on the client module used, the available data includes:\n\n- Event data\n- Station inventory and response data\n- Availability information\n- ..."
    },
    {
     "cell_type": "markdown",
     "metadata": {},
     "source": "#### obspy.iris - Exercises\n\n- Use the obspy.iris client and request some waveform data of your choice (e.g. a different TA station, or a different channel, or a time when an event happened somewhere, e.g. yesterdays M 6.8 off Colombia), plot it, run filters on it, etc."
    },
    {
     "cell_type": "code",
     "collapsed": false,
     "input": "",
     "language": "python",
     "metadata": {},
     "outputs": []
    },
    {
     "cell_type": "markdown",
     "metadata": {},
     "source": "### 3.3 obspy.signal - Signal Processing Routines"
    },
    {
     "cell_type": "code",
     "collapsed": false,
     "input": "import obspy.signal\nprint dir(obspy.signal)",
     "language": "python",
     "metadata": {},
     "outputs": []
    },
    {
     "cell_type": "markdown",
     "metadata": {},
     "source": "- This list is not complete as it does not show functions available in submodules\n- Functionality can be browsed through or searched for in the [ObsPy docs](https://docs.obspy.org/packages/obspy.signal.html#module-obspy.signal)\n- every day functionality is wrapped in convenience functions on [**`Trace`** / **`Stream`**](https://docs.obspy.org/packages/autogen/obspy.core.stream.Stream.html)\n\n  - example: Filtering"
    },
    {
     "cell_type": "code",
     "collapsed": false,
     "input": "tr = read()[0]\n\nfrom obspy.signal.filter import bandpass\ntr.data = bandpass(tr.data, 1, 10, tr.stats.sampling_rate)",
     "language": "python",
     "metadata": {},
     "outputs": []
    },
    {
     "cell_type": "code",
     "collapsed": false,
     "input": "tr = read()[0]\n\ntr.filter(\"bandpass\", freqmin=1, freqmax=10)",
     "language": "python",
     "metadata": {},
     "outputs": []
    },
    {
     "cell_type": "markdown",
     "metadata": {},
     "source": "..much better to read in (foreign) code and much less error prone!\n\n- example: Instrument correction"
    },
    {
     "cell_type": "code",
     "collapsed": false,
     "input": "paz_sts2 = {\\\n    \"poles\": [-0.037004+0.037016j, -0.037004-0.037016j,\n              -251.33+0j,\n              -131.04-467.29j, -131.04+467.29j],\n    \"zeros\": [0j, 0j],\n    \"gain\": 60077000.0,\n    \"sensitivity\": 2516778400.0}\n\nst = read()\nst.simulate(paz_remove=paz_sts2)",
     "language": "python",
     "metadata": {},
     "outputs": []
    },
    {
     "cell_type": "markdown",
     "metadata": {},
     "source": "- the response information can also be retrieved from a webservice, or from a SEED file\n- instead of the ObsPy internal routine, evalresp can be used (from inside ObsPy)\n\n- some other convenience functions that use functionality from obspy.signal in use:"
    },
    {
     "cell_type": "code",
     "collapsed": false,
     "input": "st = read()\nst.spectrogram()\n\nst.resample(10)\nst.detrend(\"linear\")\nst.taper()\nst.filter(\"bandpass\", freqmin=0.5, freqmax=2.0)\n\nst.plot()",
     "language": "python",
     "metadata": {},
     "outputs": []
    },
    {
     "cell_type": "markdown",
     "metadata": {},
     "source": "### 3.4 obspy.xseed - Handling Station Inventory Data\n\n- Can currently read/write/convert between SEED/DatalessSEED and XML-SEED\n- RESP file write support\n- StationXML support is [currently being developed](https://github.com/obspy/obspy/pull/590) and due for the next major release (fall/winter)."
    },
    {
     "cell_type": "code",
     "collapsed": false,
     "input": "from obspy.xseed import Parser\np = Parser(\"dataless_SEED\")\nprint p\np.getCoordinates(\"BW.FURT..EHZ\")\np.getPAZ(\"BW.FURT..EHZ\")",
     "language": "python",
     "metadata": {},
     "outputs": []
    },
    {
     "cell_type": "code",
     "collapsed": false,
     "input": "p.writeXSEED(\"dataless.xml\")\np = Parser(\"dataless.xml\")\np.writeSEED(\"edit_dataless_SEED\")\np.writeRESP(\".\")",
     "language": "python",
     "metadata": {},
     "outputs": []
    },
    {
     "cell_type": "markdown",
     "metadata": {},
     "source": "Data can be then be corrected for instrument response (and/or simulated to another instrument response) by either..\n\n - the ObsPy internal routine based on Poles and Zeros information and overall sensitivity\n - the wrapped evalresp routine"
    },
    {
     "cell_type": "markdown",
     "metadata": {},
     "source": "### 3.5 obspy.core.event - Event Handling\n\n- Aims to get a unified interface with read and write support independent of the data source, similar to how the **`Stream`** and **`Trace`** classes handle waveform data\n- Fully supports QuakeML 1.2 and is modelled after it"
    },
    {
     "cell_type": "code",
     "collapsed": false,
     "input": "from obspy import readEvents\n\nurl = \"http://service.iris.edu/fdsnws/event/1/query?minmagnitude=8.5\"\ncatalog = readEvents(url)\nprint catalog",
     "language": "python",
     "metadata": {},
     "outputs": []
    },
    {
     "cell_type": "markdown",
     "metadata": {},
     "source": "- The readEvents() function always returns a **`Catalog`** object, which is\na collection of **`Event`** objects."
    },
    {
     "cell_type": "code",
     "collapsed": false,
     "input": "print type(catalog)\nprint type(catalog[0])",
     "language": "python",
     "metadata": {},
     "outputs": []
    },
    {
     "cell_type": "code",
     "collapsed": false,
     "input": "event = catalog[0]\nprint event",
     "language": "python",
     "metadata": {},
     "outputs": []
    },
    {
     "cell_type": "markdown",
     "metadata": {},
     "source": "- Event objects are again collections of other resources."
    },
    {
     "cell_type": "code",
     "collapsed": false,
     "input": "print type(event.origins[0])\nprint type(event.magnitudes[0])\nprint event.origins[0]",
     "language": "python",
     "metadata": {},
     "outputs": []
    },
    {
     "cell_type": "markdown",
     "metadata": {},
     "source": "- The Catalog object contains some convenience methods to make\nworking with events easier.\n- Events can be filtered with various keys."
    },
    {
     "cell_type": "code",
     "collapsed": false,
     "input": "largest_magnitude_events = catalog.filter(\"magnitude >= 8.8\")\nprint largest_magnitude_events",
     "language": "python",
     "metadata": {},
     "outputs": []
    },
    {
     "cell_type": "markdown",
     "metadata": {},
     "source": "- There is a basic preview plot using the basemap module."
    },
    {
     "cell_type": "code",
     "collapsed": false,
     "input": "catalog.plot()",
     "language": "python",
     "metadata": {},
     "outputs": []
    },
    {
     "cell_type": "markdown",
     "metadata": {},
     "source": "- And they can be written."
    },
    {
     "cell_type": "code",
     "collapsed": false,
     "input": "catalog.write(\"/tmp/modified_events.xml\", format=\"QUAKEML\")\n!ls -l /tmp/modified_events.xml",
     "language": "python",
     "metadata": {},
     "outputs": []
    },
    {
     "cell_type": "code",
     "collapsed": false,
     "input": "!head /tmp/modified_events.xml\n!echo \"...\"\n!tail /tmp/modified_events.xml",
     "language": "python",
     "metadata": {},
     "outputs": []
    },
    {
     "cell_type": "markdown",
     "metadata": {},
     "source": "#### obspy.core.event - Exercise\n\n- Feed one of the example query URLS at http://service.iris.edu/fdsnws/event/1/ to the **`readEvents()`** method \n- Print the resulting Catalog object and filter it, so it only contains events with a magnitude larger than a certain magnitude.\n- Now assume you did a new magnitude estimation and want to add it to one event. Create a new magnitude object (import it from `obspy.core.event`), fill it with some values and append it to the magnitude list of the one of the events.\n- Save the modified Catalog as a QuakeML object locally."
    },
    {
     "cell_type": "code",
     "collapsed": false,
     "input": "",
     "language": "python",
     "metadata": {},
     "outputs": []
    }
   ],
   "metadata": {}
  }
 ]
}