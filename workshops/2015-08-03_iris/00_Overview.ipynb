{
 "cells": [
  {
   "cell_type": "markdown",
   "metadata": {},
   "source": [
    "<div style=\"background-image:url(images/meschede-seismic-waves.png); padding: 10px 30px 20px 30px; background-size:cover; background-opacity:50%; border-radius:5px\">\n",
    "<p style=\"float:right; margin-top:20px; padding: 20px 20px 0px 20px; background:rgba(255,255,255,0.6); border-radius:10px;\">\n",
    "<img width=\"400px\" src=images/obspy_logo_full_524x179px.png?raw=true>\n",
    "\n",
    "</p>\n",
    "\n",
    "<h1 style=\"color:#999\">IRIS-EarthScope Short Course</h1>\n",
    "<h5 style=\"color:#FFF\">Bloomington/IN, August 2015</h5>\n",
    "<br/>\n",
    "<h2 style=\"color:#EEE\">Python/ObsPy Introduction</h2>\n",
    "<br/>\n",
    "\n",
    "</div>\n",
    "<div align=\"right\">image by Matthias Meschede</div>\n",
    "\n",
    "# Course Material\n",
    "\n",
    "### **[Python Crash Course](01_Python_Crash_Course.ipynb)**  *[[with output and solutions]](01_Python_Crash_Course_with_output_and_solutions.ipynb)*\n",
    "\n",
    "### **[Introduction to ObsPy](02_ObsPy_Introduction.ipynb)**  *[[with output and solutions]](02_ObsPy_Introduction_with_output_and_solutions.ipynb)*\n",
    "\n",
    "### **[ObsPy Data Analysis Exercise](03_Exercise__2008_MtCarmel_Earthquake_and_Aftershock_Series.ipynb)**  *[[with output and solutions]](03_Exercise__2008_MtCarmel_Earthquake_and_Aftershock_Series-with_solutions.ipynb)*"
   ]
  }
 ],
 "metadata": {
  "kernelspec": {
   "display_name": "Python 2",
   "language": "python",
   "name": "python2"
  },
  "language_info": {
   "codemirror_mode": {
    "name": "ipython",
    "version": 2
   },
   "file_extension": ".py",
   "mimetype": "text/x-python",
   "name": "python",
   "nbconvert_exporter": "python",
   "pygments_lexer": "ipython2",
   "version": "2.7.10"
  }
 },
 "nbformat": 4,
 "nbformat_minor": 0
}
