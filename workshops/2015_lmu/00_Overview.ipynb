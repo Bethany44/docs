{
 "cells": [
  {
   "cell_type": "markdown",
   "metadata": {},
   "source": [
    "<div style=\"background-image:url(images/meschede-seismic-waves.png); padding: 10px 30px 20px 30px; background-size:cover; background-opacity:50%; border-radius:5px\">\n",
    "<p style=\"float:right; margin-top:20px; padding: 20px 20px 0px 20px; background:rgba(255,255,255,0.6); border-radius:10px;\">\n",
    "<img width=\"400px\" src=images/obspy_logo_full_524x179px.png?raw=true>\n",
    "\n",
    "</p>\n",
    "\n",
    "<h1 style=\"color:#999\">Geophysical Data Analysis</h1>\n",
    "<h5 style=\"color:#FFF\">LMU, July 2015</h5>\n",
    "<br/>\n",
    "<h2 style=\"color:#EEE\">Python and ObsPy Introduction</h2>\n",
    "<br/>\n",
    "\n",
    "</div>\n",
    "<div align=\"right\">image by Matthias Meschede</div>\n",
    "\n",
    "# Schedule\n",
    "\n",
    "A) **[Python Crash Course](01_Python_Crash_Course.ipynb)**  *[[Solution]](01_Python_Crash_Course_with_output_and_solutions.ipynb)*\n",
    "\n",
    "  -- short break --\n",
    "\n",
    "B) **[Introduction to ObsPy](02_ObsPy_Introduction.ipynb)**  *[[Solution]](02_ObsPy_Introduction_with_output_and_solutions.ipynb)*"
   ]
  }
 ],
 "metadata": {
  "kernelspec": {
   "display_name": "Python 2",
   "language": "python",
   "name": "python2"
  },
  "language_info": {
   "codemirror_mode": {
    "name": "ipython",
    "version": 2
   },
   "file_extension": ".py",
   "mimetype": "text/x-python",
   "name": "python",
   "nbconvert_exporter": "python",
   "pygments_lexer": "ipython2",
   "version": "2.7.10"
  }
 },
 "nbformat": 4,
 "nbformat_minor": 0
}
